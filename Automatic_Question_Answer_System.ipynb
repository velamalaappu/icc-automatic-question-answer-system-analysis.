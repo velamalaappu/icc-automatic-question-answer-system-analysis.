{
  "nbformat": 4,
  "nbformat_minor": 0,
  "metadata": {
    "colab": {
      "name": "Automatic Question Answer System.ipynb",
      "provenance": [],
      "collapsed_sections": [],
      "mount_file_id": "19-NyVNLRseGevHiLMvtedv1BFAZlQDYy",
      "authorship_tag": "ABX9TyNArHB9Z+VYJqrJX15mK6Fk",
      "include_colab_link": true
    },
    "kernelspec": {
      "name": "python3",
      "display_name": "Python 3"
    },
    "language_info": {
      "name": "python"
    }
  },
  "cells": [
    {
      "cell_type": "markdown",
      "metadata": {
        "id": "view-in-github",
        "colab_type": "text"
      },
      "source": [
        "<a href=\"https://colab.research.google.com/github/velamalaappu/icc-automatic-question-answer-system-analysis./blob/main/Automatic_Question_Answer_System.ipynb\" target=\"_parent\"><img src=\"https://colab.research.google.com/assets/colab-badge.svg\" alt=\"Open In Colab\"/></a>"
      ]
    },
    {
      "cell_type": "markdown",
      "source": [
        "# **Automated Question Answer System**"
      ],
      "metadata": {
        "id": "A8gyZR8-bkXN"
      }
    },
    {
      "cell_type": "markdown",
      "source": [
        "# **Project Introduction**"
      ],
      "metadata": {
        "id": "qpktZwU0NfzE"
      }
    },
    {
      "cell_type": "markdown",
      "source": [
        "The Indian education landscape has been undergoing rapid changes for the past 10 years owing to\n",
        "the advancement of web-based learning services, specifically, eLearning platforms.\n",
        "\n",
        "Most online education institutes today treat all students in the same class/batch/cohort (referred to as\n",
        "“group” hereinafter) the same. Institutional uniformity works quite well for machines but humans are\n",
        "made up of different and often contradictory components!\n",
        "\n",
        "We believe that the model of allowing all students to learn at the same pace with the same level of\n",
        "interest is quite detrimental to the quality of education. This model is testing the capabilities of\n",
        "students by forcing them to work together in groups at the same pace, regardless of each individual's\n",
        "ability and the interests of the work.\n",
        "\n",
        "The reality could not be farther from the truth. The reason we see a wide variation in the group\n",
        "performance is owing to this thought process.\n",
        "\n",
        "In a system based on Competency Based Learning (referred to as “CBL” going forward), the group is\n",
        "accepted as a set of diverse individuals who may come with some common traits but also recognizes\n",
        "their different educational backgrounds, life & work experiences and learning styles.\n",
        "\n",
        "Competency-based learning is an approach to education that focuses on the student’s demonstration\n",
        "of desired learning outcomes as central to the learning process. A key characteristic of\n",
        "competency-based learning is its focus on mastery. In other learning models, students are exposed to\n",
        "content–whether skills or concepts–over time, and success is measured on a summative basis. In a\n",
        "competency-based learning system, students are not allowed to continue until they have\n",
        "demonstrated mastery of the identified competencies (i.e., the desired learning outcomes to be\n",
        "demonstrated).\n",
        "\n",
        "It is quite common to see students get stuck, fall behind, give up & in extreme cases – drop out of the\n",
        "program in the traditional model of education. A standard experience for a student in this model is\n",
        "“failing” and then having to repeat the class/subject/year till they are able to achieve a passing grade.\n",
        "This causes the student to lose interest in addition to social embarrassment. The result is a student\n",
        "who is now trying to “pass” by rote memorization and doing the bare minimum for the passing.\n",
        "\n",
        "While assessments based on rubrics are a cornerstone for the CBL system as well – they serve the\n",
        "purpose of reinforcing the concepts, and to show the student & the instructor(s) how well understood\n",
        "are each of the concepts and their application; rather than making just a judgment of passing and\n",
        "failing.\n",
        "\n",
        "In this light, to be able to cater to a large pool of students to enable seamless learning, we envision an\n",
        "automated doubt resolution system. In the era of advancing AI technology, most of the doubts can be\n",
        "resolved via deep learning techniques. The AI system in place can understand the context of the\n",
        "question and can provide relevant answers to the questions."
      ],
      "metadata": {
        "id": "Ap4eGWHiNogb"
      }
    },
    {
      "cell_type": "markdown",
      "source": [
        "# **Problem Statement**"
      ],
      "metadata": {
        "id": "0Se6425bO0xR"
      }
    },
    {
      "cell_type": "markdown",
      "source": [
        "We will solve the above-mentioned challenge by applying deep learning algorithms to textual data.\n",
        "The solution to this problem can be obtained through Extractive Question Answering wherein we can\n",
        "extract an answer from a text given the question."
      ],
      "metadata": {
        "id": "hAiIXpRHPEt2"
      }
    },
    {
      "cell_type": "markdown",
      "source": [
        "# **Question Answering Bot**"
      ],
      "metadata": {
        "id": "nIpaay3Xb4o2"
      }
    },
    {
      "cell_type": "markdown",
      "source": [
        "## **Loading the Data**"
      ],
      "metadata": {
        "id": "JtJsO9sib8rL"
      }
    },
    {
      "cell_type": "markdown",
      "source": [
        "I work with the Babi Data Set from Facebook Research.\n",
        "\n",
        "Full Details: https://research.fb.com/downloads/babi/\n",
        "\n",
        "Jason Weston, Antoine Bordes, Sumit Chopra, Tomas Mikolov, Alexander M. Rush, \"Towards AI-Complete Question Answering: A Set of Prerequisite Toy Tasks\", http://arxiv.org/abs/1502.05698"
      ],
      "metadata": {
        "id": "feAirvaicFBW"
      }
    },
    {
      "cell_type": "code",
      "source": [
        "import keras\n",
        "from keras.models import Sequential, Model\n",
        "from keras.layers.embeddings import Embedding\n",
        "from keras.layers import Input, Activation, Dense, Permute, Dropout\n",
        "from keras.layers import add, dot, concatenate\n",
        "from keras.layers import LSTM, GRU\n",
        "from keras.utils.data_utils import get_file\n",
        "from keras.preprocessing.sequence import pad_sequences\n",
        "from keras import backend as K\n",
        "\n",
        "from functools import reduce\n",
        "import tarfile\n",
        "import numpy as np\n",
        "import re\n",
        "\n",
        "import IPython\n",
        "import matplotlib.pyplot as plt\n",
        "import pandas as pd\n",
        "%matplotlib inline"
      ],
      "metadata": {
        "id": "aZ2YoLYGTGsO"
      },
      "execution_count": 28,
      "outputs": []
    },
    {
      "cell_type": "code",
      "source": [
        "from google.colab import drive\n",
        "drive.mount('/content/drive')"
      ],
      "metadata": {
        "colab": {
          "base_uri": "https://localhost:8080/"
        },
        "id": "-xg5TpYsbXDB",
        "outputId": "89079b82-bd01-4cc4-ac89-8bb5fce16d9b"
      },
      "execution_count": 30,
      "outputs": [
        {
          "output_type": "stream",
          "name": "stdout",
          "text": [
            "Drive already mounted at /content/drive; to attempt to forcibly remount, call drive.mount(\"/content/drive\", force_remount=True).\n"
          ]
        }
      ]
    },
    {
      "cell_type": "code",
      "source": [
        "import pickle\n",
        "import numpy as np"
      ],
      "metadata": {
        "id": "Lbr3sAGgcmBS"
      },
      "execution_count": 31,
      "outputs": []
    },
    {
      "cell_type": "code",
      "source": [
        "with open(\"/content/drive/MyDrive/Colab Notebooks/question answer system/train_qa.txt\", \"rb\") as fp:   # Unpickling, read-binary\n",
        "    train_data =  pickle.load(fp)"
      ],
      "metadata": {
        "id": "q-1PCpv1ct1k"
      },
      "execution_count": 32,
      "outputs": []
    },
    {
      "cell_type": "code",
      "source": [
        "with open(\"/content/drive/MyDrive/Colab Notebooks/question answer system/test_qa.txt\", \"rb\") as fp:   # Unpickling\n",
        "    test_data =  pickle.load(fp)"
      ],
      "metadata": {
        "id": "JBhxAOOoc1i2"
      },
      "execution_count": 33,
      "outputs": []
    },
    {
      "cell_type": "markdown",
      "source": [
        "## **Exploring the Format of the Data**"
      ],
      "metadata": {
        "id": "JJ4950ZCc_YH"
      }
    },
    {
      "cell_type": "code",
      "source": [
        "type(test_data)"
      ],
      "metadata": {
        "colab": {
          "base_uri": "https://localhost:8080/"
        },
        "id": "FgHOriE5c-0F",
        "outputId": "b8bf133b-20c3-4944-ab4f-8020681b1a0c"
      },
      "execution_count": null,
      "outputs": [
        {
          "output_type": "execute_result",
          "data": {
            "text/plain": [
              "list"
            ]
          },
          "metadata": {},
          "execution_count": 7
        }
      ]
    },
    {
      "cell_type": "code",
      "source": [
        "type(train_data)"
      ],
      "metadata": {
        "colab": {
          "base_uri": "https://localhost:8080/"
        },
        "id": "VqerB4UHdL9v",
        "outputId": "d52f4c5f-28ee-40fa-c1c1-c6f42c89be92"
      },
      "execution_count": null,
      "outputs": [
        {
          "output_type": "execute_result",
          "data": {
            "text/plain": [
              "list"
            ]
          },
          "metadata": {},
          "execution_count": 8
        }
      ]
    },
    {
      "cell_type": "code",
      "source": [
        "len(test_data)"
      ],
      "metadata": {
        "colab": {
          "base_uri": "https://localhost:8080/"
        },
        "id": "N9Wx51MIdTq1",
        "outputId": "8935479b-5427-4c00-dc1c-825ce2f9b9ca"
      },
      "execution_count": null,
      "outputs": [
        {
          "output_type": "execute_result",
          "data": {
            "text/plain": [
              "1000"
            ]
          },
          "metadata": {},
          "execution_count": 9
        }
      ]
    },
    {
      "cell_type": "code",
      "source": [
        "len(train_data)"
      ],
      "metadata": {
        "colab": {
          "base_uri": "https://localhost:8080/"
        },
        "id": "z0gM1VGZda7o",
        "outputId": "a8a04a3b-2bba-4b00-c6d0-a09920e381b9"
      },
      "execution_count": null,
      "outputs": [
        {
          "output_type": "execute_result",
          "data": {
            "text/plain": [
              "10000"
            ]
          },
          "metadata": {},
          "execution_count": 10
        }
      ]
    },
    {
      "cell_type": "code",
      "source": [
        "train_data[50]"
      ],
      "metadata": {
        "colab": {
          "base_uri": "https://localhost:8080/"
        },
        "id": "BWPWCJ94dhxz",
        "outputId": "f1ac0aaa-93f3-447c-f837-16820b7b1b65"
      },
      "execution_count": null,
      "outputs": [
        {
          "output_type": "execute_result",
          "data": {
            "text/plain": [
              "(['Mary',\n",
              "  'went',\n",
              "  'back',\n",
              "  'to',\n",
              "  'the',\n",
              "  'bathroom',\n",
              "  '.',\n",
              "  'Daniel',\n",
              "  'went',\n",
              "  'to',\n",
              "  'the',\n",
              "  'office',\n",
              "  '.'],\n",
              " ['Is', 'Mary', 'in', 'the', 'bathroom', '?'],\n",
              " 'yes')"
            ]
          },
          "metadata": {},
          "execution_count": 11
        }
      ]
    },
    {
      "cell_type": "code",
      "source": [
        "train_data[0]"
      ],
      "metadata": {
        "colab": {
          "base_uri": "https://localhost:8080/"
        },
        "id": "OhdpWOq4dpGT",
        "outputId": "708988fb-61ee-439d-8686-bb413c1f185c"
      },
      "execution_count": null,
      "outputs": [
        {
          "output_type": "execute_result",
          "data": {
            "text/plain": [
              "(['Mary',\n",
              "  'moved',\n",
              "  'to',\n",
              "  'the',\n",
              "  'bathroom',\n",
              "  '.',\n",
              "  'Sandra',\n",
              "  'journeyed',\n",
              "  'to',\n",
              "  'the',\n",
              "  'bedroom',\n",
              "  '.'],\n",
              " ['Is', 'Sandra', 'in', 'the', 'hallway', '?'],\n",
              " 'no')"
            ]
          },
          "metadata": {},
          "execution_count": 12
        }
      ]
    },
    {
      "cell_type": "code",
      "source": [
        "text=''\n",
        "print('Story:')\n",
        "for sent in train_data[99]:\n",
        "    if sent!='yes' and sent!='no':\n",
        "        for word in sent:\n",
        "            if (word!='.'):\n",
        "                if (word!='?'):\n",
        "                    text+= word + ' '\n",
        "                else:\n",
        "                    print()\n",
        "                    print('Question:', text[:-1]+word)\n",
        "                    print()\n",
        "            else:\n",
        "                print(text[:-1]+word)\n",
        "                text=''\n",
        "    else:\n",
        "        print('Answer:', sent)"
      ],
      "metadata": {
        "colab": {
          "base_uri": "https://localhost:8080/"
        },
        "id": "IxxS0SnodwXX",
        "outputId": "f82ec7cd-106f-4e34-e58d-28c14e43787b"
      },
      "execution_count": null,
      "outputs": [
        {
          "output_type": "stream",
          "name": "stdout",
          "text": [
            "Story:\n",
            "Daniel grabbed the apple there.\n",
            "Daniel went to the bedroom.\n",
            "John moved to the garden.\n",
            "Sandra journeyed to the office.\n",
            "Daniel put down the apple.\n",
            "Mary went to the bedroom.\n",
            "Mary grabbed the apple there.\n",
            "Sandra went back to the garden.\n",
            "Mary went to the kitchen.\n",
            "Daniel went to the office.\n",
            "\n",
            "Question: Is Mary in the garden?\n",
            "\n",
            "Answer: no\n"
          ]
        }
      ]
    },
    {
      "cell_type": "code",
      "source": [
        "' '.join(train_data[0][0])"
      ],
      "metadata": {
        "colab": {
          "base_uri": "https://localhost:8080/",
          "height": 35
        },
        "id": "v-od4qCmd4EM",
        "outputId": "ae96b06c-c70b-4ba2-f2fc-4e6b33a868cd"
      },
      "execution_count": null,
      "outputs": [
        {
          "output_type": "execute_result",
          "data": {
            "text/plain": [
              "'Mary moved to the bathroom . Sandra journeyed to the bedroom .'"
            ],
            "application/vnd.google.colaboratory.intrinsic+json": {
              "type": "string"
            }
          },
          "metadata": {},
          "execution_count": 14
        }
      ]
    },
    {
      "cell_type": "code",
      "source": [
        "' '.join(train_data[0][1])"
      ],
      "metadata": {
        "colab": {
          "base_uri": "https://localhost:8080/",
          "height": 35
        },
        "id": "h3Kt9D8ud_aP",
        "outputId": "e265cd17-c93f-40af-f2c4-63f4086a3763"
      },
      "execution_count": null,
      "outputs": [
        {
          "output_type": "execute_result",
          "data": {
            "text/plain": [
              "'Is Sandra in the hallway ?'"
            ],
            "application/vnd.google.colaboratory.intrinsic+json": {
              "type": "string"
            }
          },
          "metadata": {},
          "execution_count": 15
        }
      ]
    },
    {
      "cell_type": "code",
      "source": [
        "train_data[0][2]"
      ],
      "metadata": {
        "colab": {
          "base_uri": "https://localhost:8080/",
          "height": 35
        },
        "id": "RT57xkgGeEkM",
        "outputId": "40d05860-08de-4b38-cb33-ada6acb29ac7"
      },
      "execution_count": null,
      "outputs": [
        {
          "output_type": "execute_result",
          "data": {
            "text/plain": [
              "'no'"
            ],
            "application/vnd.google.colaboratory.intrinsic+json": {
              "type": "string"
            }
          },
          "metadata": {},
          "execution_count": 16
        }
      ]
    },
    {
      "cell_type": "markdown",
      "source": [
        "# **Setting up Vocabulary of All Words**"
      ],
      "metadata": {
        "id": "AEXuWNlZeLgK"
      }
    },
    {
      "cell_type": "code",
      "source": [
        "# Create a set that holds the vocab words\n",
        "vocab = set()"
      ],
      "metadata": {
        "id": "o-Qv5czYeXXj"
      },
      "execution_count": null,
      "outputs": []
    },
    {
      "cell_type": "code",
      "source": [
        "all_data = test_data + train_data"
      ],
      "metadata": {
        "id": "MF-OzblkecSq"
      },
      "execution_count": null,
      "outputs": []
    },
    {
      "cell_type": "code",
      "source": [
        "len(all_data)"
      ],
      "metadata": {
        "colab": {
          "base_uri": "https://localhost:8080/"
        },
        "id": "NPwJM0MdejVN",
        "outputId": "fd900a8e-4071-494b-8936-c941033583eb"
      },
      "execution_count": null,
      "outputs": [
        {
          "output_type": "execute_result",
          "data": {
            "text/plain": [
              "11000"
            ]
          },
          "metadata": {},
          "execution_count": 19
        }
      ]
    },
    {
      "cell_type": "code",
      "source": [
        "set(train_data[0][0]) # story component"
      ],
      "metadata": {
        "colab": {
          "base_uri": "https://localhost:8080/"
        },
        "id": "eRw_LOaceprc",
        "outputId": "c6f9ca27-a766-4667-a6f0-19530072a813"
      },
      "execution_count": null,
      "outputs": [
        {
          "output_type": "execute_result",
          "data": {
            "text/plain": [
              "{'.',\n",
              " 'Mary',\n",
              " 'Sandra',\n",
              " 'bathroom',\n",
              " 'bedroom',\n",
              " 'journeyed',\n",
              " 'moved',\n",
              " 'the',\n",
              " 'to'}"
            ]
          },
          "metadata": {},
          "execution_count": 20
        }
      ]
    },
    {
      "cell_type": "code",
      "source": [
        "for story, question , answer in all_data:\n",
        "    # In case you don't know what a union of sets is:\n",
        "    # https://www.programiz.com/python-programming/methods/set/union\n",
        "    vocab = vocab.union(set(story))\n",
        "    vocab = vocab.union(set(question))"
      ],
      "metadata": {
        "id": "fS-O48YSevkY"
      },
      "execution_count": null,
      "outputs": []
    },
    {
      "cell_type": "markdown",
      "source": [
        "adding the answer possibilities"
      ],
      "metadata": {
        "id": "hLhF0xgCe46d"
      }
    },
    {
      "cell_type": "code",
      "source": [
        "vocab.add('no')\n",
        "vocab.add('yes')"
      ],
      "metadata": {
        "id": "mRI6EeYpe39e"
      },
      "execution_count": null,
      "outputs": []
    },
    {
      "cell_type": "code",
      "source": [
        "vocab"
      ],
      "metadata": {
        "colab": {
          "base_uri": "https://localhost:8080/"
        },
        "id": "gJVp2rRAfF0C",
        "outputId": "e0de0248-f398-4968-ff24-56cc183058b7"
      },
      "execution_count": null,
      "outputs": [
        {
          "output_type": "execute_result",
          "data": {
            "text/plain": [
              "{'.',\n",
              " '?',\n",
              " 'Daniel',\n",
              " 'Is',\n",
              " 'John',\n",
              " 'Mary',\n",
              " 'Sandra',\n",
              " 'apple',\n",
              " 'back',\n",
              " 'bathroom',\n",
              " 'bedroom',\n",
              " 'discarded',\n",
              " 'down',\n",
              " 'dropped',\n",
              " 'football',\n",
              " 'garden',\n",
              " 'got',\n",
              " 'grabbed',\n",
              " 'hallway',\n",
              " 'in',\n",
              " 'journeyed',\n",
              " 'kitchen',\n",
              " 'left',\n",
              " 'milk',\n",
              " 'moved',\n",
              " 'no',\n",
              " 'office',\n",
              " 'picked',\n",
              " 'put',\n",
              " 'the',\n",
              " 'there',\n",
              " 'to',\n",
              " 'took',\n",
              " 'travelled',\n",
              " 'up',\n",
              " 'went',\n",
              " 'yes'}"
            ]
          },
          "metadata": {},
          "execution_count": 23
        }
      ]
    },
    {
      "cell_type": "code",
      "source": [
        "vocab_len = len(vocab) + 1 "
      ],
      "metadata": {
        "id": "CW-HTFRBfM3g"
      },
      "execution_count": null,
      "outputs": []
    },
    {
      "cell_type": "code",
      "source": [
        "vocab_len"
      ],
      "metadata": {
        "colab": {
          "base_uri": "https://localhost:8080/"
        },
        "id": "OrP3vphAfUif",
        "outputId": "f3200ed9-00e6-4b4c-b6d8-46a981d20d71"
      },
      "execution_count": null,
      "outputs": [
        {
          "output_type": "execute_result",
          "data": {
            "text/plain": [
              "38"
            ]
          },
          "metadata": {},
          "execution_count": 25
        }
      ]
    },
    {
      "cell_type": "code",
      "source": [
        "max_story_len = max([len(data[0]) for data in all_data])\n"
      ],
      "metadata": {
        "id": "F9f2V9B1fY5E"
      },
      "execution_count": null,
      "outputs": []
    },
    {
      "cell_type": "code",
      "source": [
        "max_story_len"
      ],
      "metadata": {
        "colab": {
          "base_uri": "https://localhost:8080/"
        },
        "id": "PlpbmOgWffTP",
        "outputId": "37807d4f-a358-480c-c950-d082881e1067"
      },
      "execution_count": null,
      "outputs": [
        {
          "output_type": "execute_result",
          "data": {
            "text/plain": [
              "156"
            ]
          },
          "metadata": {},
          "execution_count": 27
        }
      ]
    },
    {
      "cell_type": "code",
      "source": [
        "max_question_len = max([len(data[1]) for data in all_data])"
      ],
      "metadata": {
        "id": "xB8k3NJ7fkm_"
      },
      "execution_count": null,
      "outputs": []
    },
    {
      "cell_type": "code",
      "source": [
        "max_question_len"
      ],
      "metadata": {
        "colab": {
          "base_uri": "https://localhost:8080/"
        },
        "id": "OwmLnSMZfpfo",
        "outputId": "19a6f061-7ac8-4372-8dfe-e1c5c39ecf94"
      },
      "execution_count": null,
      "outputs": [
        {
          "output_type": "execute_result",
          "data": {
            "text/plain": [
              "6"
            ]
          },
          "metadata": {},
          "execution_count": 29
        }
      ]
    },
    {
      "cell_type": "markdown",
      "source": [
        "# **Vectorizing the Data**"
      ],
      "metadata": {
        "id": "ltNm0thGfwy8"
      }
    },
    {
      "cell_type": "code",
      "source": [
        "# Reserve 0 for pad_sequences\n",
        "vocab_size = len(vocab) + 1"
      ],
      "metadata": {
        "id": "VPxouNIofwJ5"
      },
      "execution_count": null,
      "outputs": []
    },
    {
      "cell_type": "code",
      "source": [
        "from tensorflow.keras.preprocessing.sequence import pad_sequences\n",
        "from tensorflow.keras.preprocessing.text import Tokenizer"
      ],
      "metadata": {
        "id": "jF0x0UlEf-cB"
      },
      "execution_count": null,
      "outputs": []
    },
    {
      "cell_type": "code",
      "source": [
        "# integer encode sequences of words\n",
        "tokenizer = Tokenizer(filters=[])   # provide empty list for filter out\n",
        "tokenizer.fit_on_texts(vocab)"
      ],
      "metadata": {
        "id": "wK2J_jVugFz0"
      },
      "execution_count": null,
      "outputs": []
    },
    {
      "cell_type": "code",
      "source": [
        "tokenizer.word_index"
      ],
      "metadata": {
        "colab": {
          "base_uri": "https://localhost:8080/"
        },
        "id": "aOfFbAAcgLee",
        "outputId": "13c931b4-a52d-4317-f158-7653c0cb91cd"
      },
      "execution_count": null,
      "outputs": [
        {
          "output_type": "execute_result",
          "data": {
            "text/plain": [
              "{'.': 10,\n",
              " '?': 24,\n",
              " 'apple': 3,\n",
              " 'back': 6,\n",
              " 'bathroom': 8,\n",
              " 'bedroom': 2,\n",
              " 'daniel': 18,\n",
              " 'discarded': 1,\n",
              " 'down': 36,\n",
              " 'dropped': 31,\n",
              " 'football': 9,\n",
              " 'garden': 19,\n",
              " 'got': 4,\n",
              " 'grabbed': 14,\n",
              " 'hallway': 13,\n",
              " 'in': 11,\n",
              " 'is': 25,\n",
              " 'john': 30,\n",
              " 'journeyed': 21,\n",
              " 'kitchen': 23,\n",
              " 'left': 34,\n",
              " 'mary': 27,\n",
              " 'milk': 17,\n",
              " 'moved': 32,\n",
              " 'no': 5,\n",
              " 'office': 22,\n",
              " 'picked': 35,\n",
              " 'put': 26,\n",
              " 'sandra': 20,\n",
              " 'the': 37,\n",
              " 'there': 33,\n",
              " 'to': 28,\n",
              " 'took': 29,\n",
              " 'travelled': 7,\n",
              " 'up': 12,\n",
              " 'went': 16,\n",
              " 'yes': 15}"
            ]
          },
          "metadata": {},
          "execution_count": 33
        }
      ]
    },
    {
      "cell_type": "code",
      "source": [
        "train_story_text = []\n",
        "train_question_text = []\n",
        "train_answers = []\n",
        "\n",
        "for story,question,answer in train_data:\n",
        "    train_story_text.append(story)\n",
        "    train_question_text.append(question)"
      ],
      "metadata": {
        "id": "TrZKU5eegThu"
      },
      "execution_count": null,
      "outputs": []
    },
    {
      "cell_type": "code",
      "source": [
        "train_story_seq = tokenizer.texts_to_sequences(train_story_text)"
      ],
      "metadata": {
        "id": "xIbnWl0HgZ3b"
      },
      "execution_count": null,
      "outputs": []
    },
    {
      "cell_type": "code",
      "source": [
        "len(train_story_text)"
      ],
      "metadata": {
        "colab": {
          "base_uri": "https://localhost:8080/"
        },
        "id": "ZXhv-QhBgeBc",
        "outputId": "472743df-274a-425d-9af8-e2438d56dcc0"
      },
      "execution_count": null,
      "outputs": [
        {
          "output_type": "execute_result",
          "data": {
            "text/plain": [
              "10000"
            ]
          },
          "metadata": {},
          "execution_count": 36
        }
      ]
    },
    {
      "cell_type": "code",
      "source": [
        "len(train_story_seq)"
      ],
      "metadata": {
        "colab": {
          "base_uri": "https://localhost:8080/"
        },
        "id": "3uGqRT4DgjgW",
        "outputId": "3adf322d-10cc-43b8-96ef-1c40a5e7f6ba"
      },
      "execution_count": null,
      "outputs": [
        {
          "output_type": "execute_result",
          "data": {
            "text/plain": [
              "10000"
            ]
          },
          "metadata": {},
          "execution_count": 37
        }
      ]
    },
    {
      "cell_type": "code",
      "source": [
        "# word_index = tokenizer.word_index"
      ],
      "metadata": {
        "id": "tFTb4uZvgomb"
      },
      "execution_count": null,
      "outputs": []
    },
    {
      "cell_type": "markdown",
      "source": [
        "## **Functionalize Vectorization**"
      ],
      "metadata": {
        "id": "YjE23PwDg8Pm"
      }
    },
    {
      "cell_type": "code",
      "source": [
        "def vectorize_stories(data, word_index=tokenizer.word_index, max_story_len=max_story_len,max_question_len=max_question_len):\n",
        "    '''\n",
        "    INPUT: \n",
        "    \n",
        "    data: consisting of Stories,Queries,and Answers\n",
        "    word_index: word index dictionary from tokenizer\n",
        "    max_story_len: the length of the longest story (used for pad_sequences function)\n",
        "    max_question_len: length of the longest question (used for pad_sequences function)\n",
        "\n",
        "\n",
        "    OUTPUT:\n",
        "    \n",
        "    Vectorizes the stories,questions, and answers into padded sequences. We first loop for every story, query , and\n",
        "    answer in the data. Then we convert the raw words to an word index value. Then we append each set to their appropriate\n",
        "    output list. Then once we have converted the words to numbers, we pad the sequences so they are all of equal length.\n",
        "    \n",
        "    Returns this in the form of a tuple (X,Xq,Y) (padded based on max lengths)\n",
        "    '''\n",
        "    \n",
        "    \n",
        "    # X = STORIES\n",
        "    X = []\n",
        "    # Xq = QUERY/QUESTION\n",
        "    Xq = []\n",
        "    # Y = CORRECT ANSWER\n",
        "    Y = []\n",
        "    \n",
        "    \n",
        "    for story, query, answer in data:\n",
        "        \n",
        "        # Grab the word index for every word in story\n",
        "        x = [word_index[word.lower()] for word in story]\n",
        "        # Grab the word index for every word in query\n",
        "        xq = [word_index[word.lower()] for word in query]\n",
        "        \n",
        "        # Grab the Answers (either Yes/No so we don't need to use list comprehension here)\n",
        "        # Index 0 is reserved so we're going to use + 1\n",
        "        y = np.zeros(vocab_size)  # this includes +1 for padding\n",
        "        \n",
        "        # Now that y is all zeros and we know its just Yes/No , we can use numpy logic to create this assignment\n",
        "        y[word_index[answer]] = 1\n",
        "        \n",
        "        # Append each set of story,query, and answer to their respective holding lists\n",
        "        X.append(x)\n",
        "        Xq.append(xq)\n",
        "        Y.append(y)\n",
        "        \n",
        "    # Finally, pad the sequences based on their max length so the RNN can be trained on uniformly long sequences.\n",
        "        \n",
        "    # RETURN TUPLE FOR UNPACKING\n",
        "    return (pad_sequences(X, maxlen=max_story_len),pad_sequences(Xq, maxlen=max_question_len), np.array(Y))"
      ],
      "metadata": {
        "id": "eAE9jmAdhEjl"
      },
      "execution_count": null,
      "outputs": []
    },
    {
      "cell_type": "code",
      "source": [
        "inputs_train, queries_train, answers_train = vectorize_stories(train_data)"
      ],
      "metadata": {
        "id": "YOXK-VZDhR1N"
      },
      "execution_count": null,
      "outputs": []
    },
    {
      "cell_type": "code",
      "source": [
        "inputs_test, queries_test, answers_test = vectorize_stories(test_data)"
      ],
      "metadata": {
        "id": "zT031lpDhX4D"
      },
      "execution_count": null,
      "outputs": []
    },
    {
      "cell_type": "code",
      "source": [
        "# padding mode 'pre'\n",
        "inputs_test"
      ],
      "metadata": {
        "colab": {
          "base_uri": "https://localhost:8080/"
        },
        "id": "YbfmUHI1hi9E",
        "outputId": "4bcc8ccb-0820-4b5a-a38d-81ab751d7b34"
      },
      "execution_count": null,
      "outputs": [
        {
          "output_type": "execute_result",
          "data": {
            "text/plain": [
              "array([[ 0,  0,  0, ..., 37,  2, 10],\n",
              "       [ 0,  0,  0, ..., 37, 19, 10],\n",
              "       [ 0,  0,  0, ..., 37, 19, 10],\n",
              "       ...,\n",
              "       [ 0,  0,  0, ..., 37,  3, 10],\n",
              "       [ 0,  0,  0, ..., 37, 19, 10],\n",
              "       [ 0,  0,  0, ...,  3, 33, 10]], dtype=int32)"
            ]
          },
          "metadata": {},
          "execution_count": 42
        }
      ]
    },
    {
      "cell_type": "code",
      "source": [
        "queries_test"
      ],
      "metadata": {
        "colab": {
          "base_uri": "https://localhost:8080/"
        },
        "id": "MfdhsUDfhqwh",
        "outputId": "62360bdd-8ee1-488f-8914-2cfc49763392"
      },
      "execution_count": null,
      "outputs": [
        {
          "output_type": "execute_result",
          "data": {
            "text/plain": [
              "array([[25, 30, 11, 37, 23, 24],\n",
              "       [25, 30, 11, 37, 23, 24],\n",
              "       [25, 30, 11, 37, 19, 24],\n",
              "       ...,\n",
              "       [25, 27, 11, 37,  2, 24],\n",
              "       [25, 20, 11, 37, 19, 24],\n",
              "       [25, 27, 11, 37, 19, 24]], dtype=int32)"
            ]
          },
          "metadata": {},
          "execution_count": 43
        }
      ]
    },
    {
      "cell_type": "code",
      "source": [
        "# one-hot vectors of size V vocabulary for Yes / No\n",
        "answers_test"
      ],
      "metadata": {
        "colab": {
          "base_uri": "https://localhost:8080/"
        },
        "id": "mvxmav0ohxUI",
        "outputId": "8b727592-6e4f-4fae-e610-be5cfc4ed9af"
      },
      "execution_count": null,
      "outputs": [
        {
          "output_type": "execute_result",
          "data": {
            "text/plain": [
              "array([[0., 0., 0., ..., 0., 0., 0.],\n",
              "       [0., 0., 0., ..., 0., 0., 0.],\n",
              "       [0., 0., 0., ..., 0., 0., 0.],\n",
              "       ...,\n",
              "       [0., 0., 0., ..., 0., 0., 0.],\n",
              "       [0., 0., 0., ..., 0., 0., 0.],\n",
              "       [0., 0., 0., ..., 0., 0., 0.]])"
            ]
          },
          "metadata": {},
          "execution_count": 44
        }
      ]
    },
    {
      "cell_type": "code",
      "source": [
        "# Equal proportion of Yes / No answers\n",
        "sum(answers_test)"
      ],
      "metadata": {
        "colab": {
          "base_uri": "https://localhost:8080/"
        },
        "id": "1KUECrIvh3ih",
        "outputId": "e573e6b0-ebe3-4391-b78a-71785d07c672"
      },
      "execution_count": null,
      "outputs": [
        {
          "output_type": "execute_result",
          "data": {
            "text/plain": [
              "array([  0.,   0.,   0.,   0.,   0., 503.,   0.,   0.,   0.,   0.,   0.,\n",
              "         0.,   0.,   0.,   0., 497.,   0.,   0.,   0.,   0.,   0.,   0.,\n",
              "         0.,   0.,   0.,   0.,   0.,   0.,   0.,   0.,   0.,   0.,   0.,\n",
              "         0.,   0.,   0.,   0.,   0.])"
            ]
          },
          "metadata": {},
          "execution_count": 45
        }
      ]
    },
    {
      "cell_type": "code",
      "source": [
        "tokenizer.word_index['yes']"
      ],
      "metadata": {
        "colab": {
          "base_uri": "https://localhost:8080/"
        },
        "id": "hQ7BjCsuh-p7",
        "outputId": "e11de95b-9d36-4473-d0dd-9110fa957ef2"
      },
      "execution_count": null,
      "outputs": [
        {
          "output_type": "execute_result",
          "data": {
            "text/plain": [
              "15"
            ]
          },
          "metadata": {},
          "execution_count": 46
        }
      ]
    },
    {
      "cell_type": "code",
      "source": [
        "tokenizer.word_index['no']"
      ],
      "metadata": {
        "colab": {
          "base_uri": "https://localhost:8080/"
        },
        "id": "BDTJEXdEiEIf",
        "outputId": "6fe41863-5246-438f-b570-0eb90a30de23"
      },
      "execution_count": null,
      "outputs": [
        {
          "output_type": "execute_result",
          "data": {
            "text/plain": [
              "5"
            ]
          },
          "metadata": {},
          "execution_count": 47
        }
      ]
    },
    {
      "cell_type": "markdown",
      "source": [
        "# **Creating the Model**"
      ],
      "metadata": {
        "id": "FNv3IpNQiLZ3"
      }
    },
    {
      "cell_type": "code",
      "source": [
        "from tensorflow.keras.models import Sequential, Model\n",
        "from tensorflow.keras.layers import Embedding\n",
        "from tensorflow.keras.layers import Input, Activation, Dense, Permute, Dropout\n",
        "from tensorflow.keras.layers import add, dot, concatenate\n",
        "from tensorflow.keras.layers import LSTM\n",
        "from tensorflow.keras.optimizers import RMSprop"
      ],
      "metadata": {
        "id": "d0D6vBkbiS4H"
      },
      "execution_count": null,
      "outputs": []
    },
    {
      "cell_type": "markdown",
      "source": [
        "### **Placeholders for Inputs**"
      ],
      "metadata": {
        "id": "mt3lbFRbiYRq"
      }
    },
    {
      "cell_type": "markdown",
      "source": [
        "Recall we technically have two inputs, stories and questions. So we need to use placeholders. Input() is used to instantiate a Keras tensor.\n",
        "\n"
      ],
      "metadata": {
        "id": "Hl40xgouihXP"
      }
    },
    {
      "cell_type": "code",
      "source": [
        "input_sequence = Input((max_story_len,))\n",
        "question = Input((max_question_len,))"
      ],
      "metadata": {
        "id": "N3W2_YOUitua"
      },
      "execution_count": null,
      "outputs": []
    },
    {
      "cell_type": "markdown",
      "source": [
        "# **Building the Networks**"
      ],
      "metadata": {
        "id": "9xFCMdnGiotH"
      }
    },
    {
      "cell_type": "markdown",
      "source": [
        "### **Encoders**"
      ],
      "metadata": {
        "id": "HyJ_qbsUi1ux"
      }
    },
    {
      "cell_type": "markdown",
      "source": [
        "### **Input Encoder m**"
      ],
      "metadata": {
        "id": "ak9xW2TAi_VO"
      }
    },
    {
      "cell_type": "code",
      "source": [
        "embedding_dim = 128\n",
        "\n",
        "# Input gets embedded to a sequence of vectors\n",
        "input_encoder_m = Sequential()\n",
        "input_encoder_m.add(Embedding(input_dim=vocab_size,output_dim= embedding_dim))\n",
        "input_encoder_m.add(Dropout(0.3))\n",
        "\n",
        "# This encoder will output:\n",
        "# (samples, story_maxlen, embedding_dim)"
      ],
      "metadata": {
        "id": "aJYeE9g4jFt7"
      },
      "execution_count": null,
      "outputs": []
    },
    {
      "cell_type": "markdown",
      "source": [
        "### **Input Encoder c**"
      ],
      "metadata": {
        "id": "PGzsKJChjNAP"
      }
    },
    {
      "cell_type": "code",
      "source": [
        "# embed the input into a sequence of vectors of size query_maxlen\n",
        "input_encoder_c = Sequential()\n",
        "input_encoder_c.add(Embedding(input_dim=vocab_size,output_dim=max_question_len))\n",
        "input_encoder_c.add(Dropout(0.3))\n",
        "# output: (samples, story_maxlen, query_maxlen)"
      ],
      "metadata": {
        "id": "cumLQFNHjVtd"
      },
      "execution_count": null,
      "outputs": []
    },
    {
      "cell_type": "markdown",
      "source": [
        "### **Question Encoder**"
      ],
      "metadata": {
        "id": "PnQGaCBIjeDX"
      }
    },
    {
      "cell_type": "code",
      "source": [
        "# embed the question into a sequence of vectors\n",
        "question_encoder = Sequential()\n",
        "question_encoder.add(Embedding(input_dim=vocab_size,\n",
        "                               output_dim=embedding_dim,\n",
        "                               input_length=max_question_len))\n",
        "question_encoder.add(Dropout(0.3))\n",
        "# output: (samples, query_maxlen, embedding_dim)"
      ],
      "metadata": {
        "id": "2fKMx0ZXjkjc"
      },
      "execution_count": null,
      "outputs": []
    },
    {
      "cell_type": "markdown",
      "source": [
        "### **Encode the Sequences**"
      ],
      "metadata": {
        "id": "CjfgYLG_jr4r"
      }
    },
    {
      "cell_type": "code",
      "source": [
        "# encode input sequence and questions (which are indices) to sequences of dense vectors\n",
        "input_encoded_m = input_encoder_m(input_sequence)\n",
        "input_encoded_c = input_encoder_c(input_sequence)\n",
        "question_encoded = question_encoder(question)"
      ],
      "metadata": {
        "id": "FiQVG0Vmj1qm"
      },
      "execution_count": null,
      "outputs": []
    },
    {
      "cell_type": "markdown",
      "source": [
        "Use dot product to compute the match between first input vector seq and the query\n",
        "\n"
      ],
      "metadata": {
        "id": "3crbSPI5j_i6"
      }
    },
    {
      "cell_type": "code",
      "source": [
        "# shape: `(samples, story_maxlen, query_maxlen)`\n",
        "match = dot([input_encoded_m, question_encoded], axes=(2, 2))\n",
        "match = Activation('softmax')(match)"
      ],
      "metadata": {
        "id": "CrR8qtrOj8hJ"
      },
      "execution_count": null,
      "outputs": []
    },
    {
      "cell_type": "markdown",
      "source": [
        "Add this match matrix with the second input vector sequence"
      ],
      "metadata": {
        "id": "cGRBO5z7kLVT"
      }
    },
    {
      "cell_type": "code",
      "source": [
        "# add the match matrix with the second input vector sequence\n",
        "response = add([match, input_encoded_c])  # (samples, story_maxlen, query_maxlen)\n",
        "response = Permute((2, 1))(response)  # (samples, query_maxlen, story_maxlen)"
      ],
      "metadata": {
        "id": "eoCtk7DViXmL"
      },
      "execution_count": null,
      "outputs": []
    },
    {
      "cell_type": "markdown",
      "source": [
        "## **Concatenate**"
      ],
      "metadata": {
        "id": "0sM_G3ROkWFE"
      }
    },
    {
      "cell_type": "code",
      "source": [
        "# concatenate the match matrix with the question vector sequence\n",
        "# (samples, query_maxlen, story_maxlen + embedding_dim)\n",
        "answer = concatenate([response, question_encoded])"
      ],
      "metadata": {
        "id": "y5Go4arFkQ-9"
      },
      "execution_count": null,
      "outputs": []
    },
    {
      "cell_type": "code",
      "source": [
        "answer"
      ],
      "metadata": {
        "colab": {
          "base_uri": "https://localhost:8080/"
        },
        "id": "tfkes5jhkdSv",
        "outputId": "c1070f98-1715-4326-c7da-9acfcf96e6b9"
      },
      "execution_count": null,
      "outputs": [
        {
          "output_type": "execute_result",
          "data": {
            "text/plain": [
              "<KerasTensor: shape=(None, 6, 284) dtype=float32 (created by layer 'concatenate')>"
            ]
          },
          "metadata": {},
          "execution_count": 57
        }
      ]
    },
    {
      "cell_type": "code",
      "source": [
        "# Reduce with RNN (LSTM)\n",
        "answer = LSTM(32)(answer)  # shape (samples, 32)"
      ],
      "metadata": {
        "id": "Qp3RYwtXki4D"
      },
      "execution_count": null,
      "outputs": []
    },
    {
      "cell_type": "code",
      "source": [
        "# Regularization with Dropout\n",
        "answer = Dropout(0.5)(answer)\n",
        "answer = Dense(vocab_size)(answer)  # (samples, vocab_size)"
      ],
      "metadata": {
        "id": "DdZoecjxknHp"
      },
      "execution_count": null,
      "outputs": []
    },
    {
      "cell_type": "code",
      "source": [
        "# we output a probability distribution over the vocabulary\n",
        "answer = Activation('softmax')(answer)\n"
      ],
      "metadata": {
        "id": "yi44xIDRkr3R"
      },
      "execution_count": null,
      "outputs": []
    },
    {
      "cell_type": "code",
      "source": [
        "# build the final model\n",
        "model = Model([input_sequence, question], answer)\n",
        "optimizer = RMSprop(learning_rate=0.01)\n",
        "model.compile(optimizer=optimizer, loss='categorical_crossentropy', metrics=['accuracy'])"
      ],
      "metadata": {
        "id": "anUOMfhDkxIa"
      },
      "execution_count": null,
      "outputs": []
    },
    {
      "cell_type": "code",
      "source": [
        "model.summary()"
      ],
      "metadata": {
        "colab": {
          "base_uri": "https://localhost:8080/"
        },
        "id": "UdMCZ878k06T",
        "outputId": "3037e3eb-6c18-450f-faa1-3db8253c1238"
      },
      "execution_count": null,
      "outputs": [
        {
          "output_type": "stream",
          "name": "stdout",
          "text": [
            "Model: \"model\"\n",
            "__________________________________________________________________________________________________\n",
            " Layer (type)                   Output Shape         Param #     Connected to                     \n",
            "==================================================================================================\n",
            " input_1 (InputLayer)           [(None, 156)]        0           []                               \n",
            "                                                                                                  \n",
            " input_2 (InputLayer)           [(None, 6)]          0           []                               \n",
            "                                                                                                  \n",
            " sequential (Sequential)        (None, None, 128)    4864        ['input_1[0][0]']                \n",
            "                                                                                                  \n",
            " sequential_2 (Sequential)      (None, 6, 128)       4864        ['input_2[0][0]']                \n",
            "                                                                                                  \n",
            " dot (Dot)                      (None, 156, 6)       0           ['sequential[0][0]',             \n",
            "                                                                  'sequential_2[0][0]']           \n",
            "                                                                                                  \n",
            " activation (Activation)        (None, 156, 6)       0           ['dot[0][0]']                    \n",
            "                                                                                                  \n",
            " sequential_1 (Sequential)      (None, None, 6)      228         ['input_1[0][0]']                \n",
            "                                                                                                  \n",
            " add (Add)                      (None, 156, 6)       0           ['activation[0][0]',             \n",
            "                                                                  'sequential_1[0][0]']           \n",
            "                                                                                                  \n",
            " permute (Permute)              (None, 6, 156)       0           ['add[0][0]']                    \n",
            "                                                                                                  \n",
            " concatenate (Concatenate)      (None, 6, 284)       0           ['permute[0][0]',                \n",
            "                                                                  'sequential_2[0][0]']           \n",
            "                                                                                                  \n",
            " lstm (LSTM)                    (None, 32)           40576       ['concatenate[0][0]']            \n",
            "                                                                                                  \n",
            " dropout_3 (Dropout)            (None, 32)           0           ['lstm[0][0]']                   \n",
            "                                                                                                  \n",
            " dense (Dense)                  (None, 38)           1254        ['dropout_3[0][0]']              \n",
            "                                                                                                  \n",
            " activation_1 (Activation)      (None, 38)           0           ['dense[0][0]']                  \n",
            "                                                                                                  \n",
            "==================================================================================================\n",
            "Total params: 51,786\n",
            "Trainable params: 51,786\n",
            "Non-trainable params: 0\n",
            "__________________________________________________________________________________________________\n"
          ]
        }
      ]
    },
    {
      "cell_type": "code",
      "source": [
        "import math\n",
        "from tensorflow.keras.callbacks import ReduceLROnPlateau, EarlyStopping, ModelCheckpoint, LearningRateScheduler\n",
        "\n",
        "initial_learning_rate = 0.01\n",
        "epochs = 120\n",
        "decay = initial_learning_rate / epochs\n",
        "\n",
        "def lr_step_decay(epoch, lr):\n",
        "    drop_rate = 0.5\n",
        "    epochs_drop = 20\n",
        "    return initial_learning_rate * math.pow(drop_rate, math.floor(epoch/epochs_drop))\n",
        "\n",
        "learning_rate = LearningRateScheduler(lr_step_decay, verbose=1)\n",
        "\n",
        "reduce_lr = ReduceLROnPlateau(monitor='val_loss', factor=0.66, patience=5, min_lr=0.0001, verbose=1) "
      ],
      "metadata": {
        "id": "uKVjF9NXk6cw"
      },
      "execution_count": null,
      "outputs": []
    },
    {
      "cell_type": "code",
      "source": [
        "# train\n",
        "history = model.fit([inputs_train, queries_train], answers_train,batch_size=256,epochs=120,validation_data=([inputs_test, queries_test], answers_test)) "
      ],
      "metadata": {
        "colab": {
          "base_uri": "https://localhost:8080/"
        },
        "id": "VRX_G0dGlB8D",
        "outputId": "bba06aec-0266-4ea4-8da7-8b661df054af"
      },
      "execution_count": null,
      "outputs": [
        {
          "output_type": "stream",
          "name": "stdout",
          "text": [
            "Epoch 1/120\n",
            "40/40 [==============================] - 9s 141ms/step - loss: 0.8831 - accuracy: 0.4845 - val_loss: 0.7002 - val_accuracy: 0.5030\n",
            "Epoch 2/120\n",
            "40/40 [==============================] - 5s 128ms/step - loss: 0.7070 - accuracy: 0.5011 - val_loss: 0.6935 - val_accuracy: 0.4970\n",
            "Epoch 3/120\n",
            "40/40 [==============================] - 5s 119ms/step - loss: 0.7046 - accuracy: 0.5025 - val_loss: 0.7645 - val_accuracy: 0.4970\n",
            "Epoch 4/120\n",
            "40/40 [==============================] - 5s 128ms/step - loss: 0.7010 - accuracy: 0.5081 - val_loss: 0.6943 - val_accuracy: 0.4970\n",
            "Epoch 5/120\n",
            "40/40 [==============================] - 5s 121ms/step - loss: 0.6981 - accuracy: 0.4995 - val_loss: 0.7125 - val_accuracy: 0.5030\n",
            "Epoch 6/120\n",
            "40/40 [==============================] - 5s 121ms/step - loss: 0.6974 - accuracy: 0.4986 - val_loss: 0.7585 - val_accuracy: 0.5030\n",
            "Epoch 7/120\n",
            "40/40 [==============================] - 6s 159ms/step - loss: 0.6940 - accuracy: 0.5052 - val_loss: 0.6883 - val_accuracy: 0.5850\n",
            "Epoch 8/120\n",
            "40/40 [==============================] - 5s 121ms/step - loss: 0.6471 - accuracy: 0.5810 - val_loss: 0.6268 - val_accuracy: 0.5900\n",
            "Epoch 9/120\n",
            "40/40 [==============================] - 5s 130ms/step - loss: 0.6039 - accuracy: 0.6486 - val_loss: 0.7498 - val_accuracy: 0.6660\n",
            "Epoch 10/120\n",
            "40/40 [==============================] - 5s 124ms/step - loss: 0.5444 - accuracy: 0.7284 - val_loss: 0.5694 - val_accuracy: 0.7550\n",
            "Epoch 11/120\n",
            "40/40 [==============================] - 5s 122ms/step - loss: 0.4844 - accuracy: 0.7792 - val_loss: 0.5384 - val_accuracy: 0.7740\n",
            "Epoch 12/120\n",
            "40/40 [==============================] - 5s 119ms/step - loss: 0.4435 - accuracy: 0.8002 - val_loss: 0.4445 - val_accuracy: 0.7900\n",
            "Epoch 13/120\n",
            "40/40 [==============================] - 5s 120ms/step - loss: 0.4161 - accuracy: 0.8154 - val_loss: 0.4177 - val_accuracy: 0.8110\n",
            "Epoch 14/120\n",
            "40/40 [==============================] - 5s 125ms/step - loss: 0.3971 - accuracy: 0.8261 - val_loss: 0.5028 - val_accuracy: 0.7830\n",
            "Epoch 15/120\n",
            "40/40 [==============================] - 5s 120ms/step - loss: 0.3928 - accuracy: 0.8289 - val_loss: 0.3811 - val_accuracy: 0.8200\n",
            "Epoch 16/120\n",
            "40/40 [==============================] - 5s 125ms/step - loss: 0.3736 - accuracy: 0.8385 - val_loss: 0.4652 - val_accuracy: 0.7850\n",
            "Epoch 17/120\n",
            "40/40 [==============================] - 5s 121ms/step - loss: 0.3722 - accuracy: 0.8394 - val_loss: 0.4124 - val_accuracy: 0.8160\n",
            "Epoch 18/120\n",
            "40/40 [==============================] - 5s 123ms/step - loss: 0.3641 - accuracy: 0.8438 - val_loss: 0.3774 - val_accuracy: 0.8330\n",
            "Epoch 19/120\n",
            "40/40 [==============================] - 5s 122ms/step - loss: 0.3654 - accuracy: 0.8402 - val_loss: 0.4040 - val_accuracy: 0.8030\n",
            "Epoch 20/120\n",
            "40/40 [==============================] - 5s 121ms/step - loss: 0.3501 - accuracy: 0.8482 - val_loss: 0.4798 - val_accuracy: 0.7990\n",
            "Epoch 21/120\n",
            "40/40 [==============================] - 5s 120ms/step - loss: 0.3514 - accuracy: 0.8479 - val_loss: 0.3817 - val_accuracy: 0.8200\n",
            "Epoch 22/120\n",
            "40/40 [==============================] - 5s 119ms/step - loss: 0.3474 - accuracy: 0.8471 - val_loss: 0.3939 - val_accuracy: 0.8260\n",
            "Epoch 23/120\n",
            "40/40 [==============================] - 5s 124ms/step - loss: 0.3414 - accuracy: 0.8530 - val_loss: 0.3615 - val_accuracy: 0.8220\n",
            "Epoch 24/120\n",
            "40/40 [==============================] - 5s 120ms/step - loss: 0.3433 - accuracy: 0.8511 - val_loss: 0.4026 - val_accuracy: 0.8230\n",
            "Epoch 25/120\n",
            "40/40 [==============================] - 5s 119ms/step - loss: 0.3335 - accuracy: 0.8512 - val_loss: 0.4363 - val_accuracy: 0.8070\n",
            "Epoch 26/120\n",
            "40/40 [==============================] - 5s 125ms/step - loss: 0.3398 - accuracy: 0.8533 - val_loss: 0.3779 - val_accuracy: 0.8330\n",
            "Epoch 27/120\n",
            "40/40 [==============================] - 5s 123ms/step - loss: 0.3252 - accuracy: 0.8585 - val_loss: 0.3876 - val_accuracy: 0.8120\n",
            "Epoch 28/120\n",
            "40/40 [==============================] - 5s 122ms/step - loss: 0.3227 - accuracy: 0.8573 - val_loss: 0.4091 - val_accuracy: 0.8060\n",
            "Epoch 29/120\n",
            "40/40 [==============================] - 5s 122ms/step - loss: 0.3281 - accuracy: 0.8555 - val_loss: 0.4045 - val_accuracy: 0.8090\n",
            "Epoch 30/120\n",
            "40/40 [==============================] - 5s 126ms/step - loss: 0.3225 - accuracy: 0.8577 - val_loss: 0.3642 - val_accuracy: 0.8330\n",
            "Epoch 31/120\n",
            "40/40 [==============================] - 5s 118ms/step - loss: 0.3227 - accuracy: 0.8569 - val_loss: 0.3810 - val_accuracy: 0.8370\n",
            "Epoch 32/120\n",
            "40/40 [==============================] - 5s 125ms/step - loss: 0.3201 - accuracy: 0.8601 - val_loss: 0.3765 - val_accuracy: 0.8330\n",
            "Epoch 33/120\n",
            "40/40 [==============================] - 5s 126ms/step - loss: 0.3094 - accuracy: 0.8656 - val_loss: 0.4001 - val_accuracy: 0.8140\n",
            "Epoch 34/120\n",
            "40/40 [==============================] - 5s 119ms/step - loss: 0.3095 - accuracy: 0.8640 - val_loss: 0.4469 - val_accuracy: 0.8240\n",
            "Epoch 35/120\n",
            "40/40 [==============================] - 5s 125ms/step - loss: 0.3133 - accuracy: 0.8651 - val_loss: 0.4120 - val_accuracy: 0.8280\n",
            "Epoch 36/120\n",
            "40/40 [==============================] - 5s 119ms/step - loss: 0.3065 - accuracy: 0.8653 - val_loss: 0.4988 - val_accuracy: 0.8150\n",
            "Epoch 37/120\n",
            "40/40 [==============================] - 5s 121ms/step - loss: 0.3078 - accuracy: 0.8685 - val_loss: 0.3772 - val_accuracy: 0.8170\n",
            "Epoch 38/120\n",
            "40/40 [==============================] - 5s 127ms/step - loss: 0.3017 - accuracy: 0.8687 - val_loss: 0.4539 - val_accuracy: 0.7830\n",
            "Epoch 39/120\n",
            "40/40 [==============================] - 5s 125ms/step - loss: 0.3015 - accuracy: 0.8721 - val_loss: 0.3907 - val_accuracy: 0.8230\n",
            "Epoch 40/120\n",
            "40/40 [==============================] - 5s 126ms/step - loss: 0.2973 - accuracy: 0.8697 - val_loss: 0.3935 - val_accuracy: 0.8300\n",
            "Epoch 41/120\n",
            "40/40 [==============================] - 5s 125ms/step - loss: 0.2947 - accuracy: 0.8706 - val_loss: 0.3980 - val_accuracy: 0.8400\n",
            "Epoch 42/120\n",
            "40/40 [==============================] - 5s 125ms/step - loss: 0.2926 - accuracy: 0.8747 - val_loss: 0.3671 - val_accuracy: 0.8370\n",
            "Epoch 43/120\n",
            "40/40 [==============================] - 5s 130ms/step - loss: 0.2892 - accuracy: 0.8722 - val_loss: 0.3951 - val_accuracy: 0.8290\n",
            "Epoch 44/120\n",
            "40/40 [==============================] - 5s 126ms/step - loss: 0.2852 - accuracy: 0.8750 - val_loss: 0.4139 - val_accuracy: 0.8230\n",
            "Epoch 45/120\n",
            "40/40 [==============================] - 5s 128ms/step - loss: 0.2867 - accuracy: 0.8742 - val_loss: 0.4239 - val_accuracy: 0.8170\n",
            "Epoch 46/120\n",
            "40/40 [==============================] - 5s 128ms/step - loss: 0.2796 - accuracy: 0.8765 - val_loss: 0.3781 - val_accuracy: 0.8280\n",
            "Epoch 47/120\n",
            "40/40 [==============================] - 5s 124ms/step - loss: 0.2776 - accuracy: 0.8782 - val_loss: 0.4088 - val_accuracy: 0.8210\n",
            "Epoch 48/120\n",
            "40/40 [==============================] - 5s 117ms/step - loss: 0.2780 - accuracy: 0.8811 - val_loss: 0.3928 - val_accuracy: 0.8190\n",
            "Epoch 49/120\n",
            "40/40 [==============================] - 5s 124ms/step - loss: 0.2766 - accuracy: 0.8768 - val_loss: 0.4167 - val_accuracy: 0.8290\n",
            "Epoch 50/120\n",
            "40/40 [==============================] - 5s 128ms/step - loss: 0.2785 - accuracy: 0.8822 - val_loss: 0.4156 - val_accuracy: 0.8100\n",
            "Epoch 51/120\n",
            "40/40 [==============================] - 5s 119ms/step - loss: 0.2725 - accuracy: 0.8827 - val_loss: 0.3867 - val_accuracy: 0.8220\n",
            "Epoch 52/120\n",
            "40/40 [==============================] - 5s 131ms/step - loss: 0.2738 - accuracy: 0.8821 - val_loss: 0.4195 - val_accuracy: 0.8430\n",
            "Epoch 53/120\n",
            "40/40 [==============================] - 5s 130ms/step - loss: 0.2684 - accuracy: 0.8810 - val_loss: 0.4277 - val_accuracy: 0.8110\n",
            "Epoch 54/120\n",
            "40/40 [==============================] - 5s 120ms/step - loss: 0.2709 - accuracy: 0.8828 - val_loss: 0.4399 - val_accuracy: 0.8340\n",
            "Epoch 55/120\n",
            "40/40 [==============================] - 5s 120ms/step - loss: 0.2627 - accuracy: 0.8845 - val_loss: 0.4621 - val_accuracy: 0.8160\n",
            "Epoch 56/120\n",
            "40/40 [==============================] - 5s 123ms/step - loss: 0.2632 - accuracy: 0.8843 - val_loss: 0.3677 - val_accuracy: 0.8250\n",
            "Epoch 57/120\n",
            "40/40 [==============================] - 5s 119ms/step - loss: 0.2577 - accuracy: 0.8884 - val_loss: 0.3880 - val_accuracy: 0.8240\n",
            "Epoch 58/120\n",
            "40/40 [==============================] - 5s 125ms/step - loss: 0.2604 - accuracy: 0.8874 - val_loss: 0.4306 - val_accuracy: 0.8240\n",
            "Epoch 59/120\n",
            "40/40 [==============================] - 5s 122ms/step - loss: 0.2577 - accuracy: 0.8896 - val_loss: 0.4040 - val_accuracy: 0.8250\n",
            "Epoch 60/120\n",
            "40/40 [==============================] - 5s 118ms/step - loss: 0.2549 - accuracy: 0.8860 - val_loss: 0.4120 - val_accuracy: 0.8230\n",
            "Epoch 61/120\n",
            "40/40 [==============================] - 5s 121ms/step - loss: 0.2592 - accuracy: 0.8864 - val_loss: 0.4624 - val_accuracy: 0.8340\n",
            "Epoch 62/120\n",
            "40/40 [==============================] - 5s 117ms/step - loss: 0.2570 - accuracy: 0.8884 - val_loss: 0.3844 - val_accuracy: 0.8270\n",
            "Epoch 63/120\n",
            "40/40 [==============================] - 6s 160ms/step - loss: 0.2529 - accuracy: 0.8912 - val_loss: 0.5815 - val_accuracy: 0.7640\n",
            "Epoch 64/120\n",
            "40/40 [==============================] - 5s 129ms/step - loss: 0.2624 - accuracy: 0.8873 - val_loss: 0.4131 - val_accuracy: 0.8140\n",
            "Epoch 65/120\n",
            "40/40 [==============================] - 5s 125ms/step - loss: 0.2542 - accuracy: 0.8919 - val_loss: 0.4215 - val_accuracy: 0.8290\n",
            "Epoch 66/120\n",
            "40/40 [==============================] - 5s 124ms/step - loss: 0.2524 - accuracy: 0.8932 - val_loss: 0.4213 - val_accuracy: 0.8320\n",
            "Epoch 67/120\n",
            "40/40 [==============================] - 5s 123ms/step - loss: 0.2576 - accuracy: 0.8911 - val_loss: 0.4540 - val_accuracy: 0.8360\n",
            "Epoch 68/120\n",
            "40/40 [==============================] - 5s 128ms/step - loss: 0.2468 - accuracy: 0.8928 - val_loss: 0.4964 - val_accuracy: 0.8200\n",
            "Epoch 69/120\n",
            "40/40 [==============================] - 5s 123ms/step - loss: 0.2446 - accuracy: 0.8935 - val_loss: 0.5300 - val_accuracy: 0.8200\n",
            "Epoch 70/120\n",
            "40/40 [==============================] - 5s 121ms/step - loss: 0.2510 - accuracy: 0.8898 - val_loss: 0.4189 - val_accuracy: 0.8200\n",
            "Epoch 71/120\n",
            "40/40 [==============================] - 5s 125ms/step - loss: 0.2513 - accuracy: 0.8905 - val_loss: 0.3938 - val_accuracy: 0.8240\n",
            "Epoch 72/120\n",
            "40/40 [==============================] - 5s 123ms/step - loss: 0.2452 - accuracy: 0.8930 - val_loss: 0.4609 - val_accuracy: 0.8330\n",
            "Epoch 73/120\n",
            "40/40 [==============================] - 5s 126ms/step - loss: 0.2414 - accuracy: 0.8954 - val_loss: 0.4530 - val_accuracy: 0.8200\n",
            "Epoch 74/120\n",
            "40/40 [==============================] - 5s 119ms/step - loss: 0.2421 - accuracy: 0.8924 - val_loss: 0.4325 - val_accuracy: 0.8250\n",
            "Epoch 75/120\n",
            "40/40 [==============================] - 5s 123ms/step - loss: 0.2423 - accuracy: 0.8971 - val_loss: 0.4555 - val_accuracy: 0.8350\n",
            "Epoch 76/120\n",
            "40/40 [==============================] - 5s 119ms/step - loss: 0.2413 - accuracy: 0.8970 - val_loss: 0.5057 - val_accuracy: 0.8180\n",
            "Epoch 77/120\n",
            "40/40 [==============================] - 5s 118ms/step - loss: 0.2420 - accuracy: 0.8933 - val_loss: 0.4248 - val_accuracy: 0.8360\n",
            "Epoch 78/120\n",
            "40/40 [==============================] - 5s 122ms/step - loss: 0.2369 - accuracy: 0.8989 - val_loss: 0.4451 - val_accuracy: 0.8190\n",
            "Epoch 79/120\n",
            "40/40 [==============================] - 5s 125ms/step - loss: 0.2333 - accuracy: 0.8994 - val_loss: 0.4241 - val_accuracy: 0.8220\n",
            "Epoch 80/120\n",
            "40/40 [==============================] - 5s 121ms/step - loss: 0.2327 - accuracy: 0.9026 - val_loss: 0.4653 - val_accuracy: 0.8200\n",
            "Epoch 81/120\n",
            "40/40 [==============================] - 5s 119ms/step - loss: 0.2364 - accuracy: 0.8966 - val_loss: 0.4181 - val_accuracy: 0.8300\n",
            "Epoch 82/120\n",
            "40/40 [==============================] - 5s 122ms/step - loss: 0.2293 - accuracy: 0.8989 - val_loss: 0.4470 - val_accuracy: 0.8330\n",
            "Epoch 83/120\n",
            "40/40 [==============================] - 5s 129ms/step - loss: 0.2336 - accuracy: 0.8984 - val_loss: 0.4163 - val_accuracy: 0.8230\n",
            "Epoch 84/120\n",
            "40/40 [==============================] - 5s 125ms/step - loss: 0.2317 - accuracy: 0.9014 - val_loss: 0.5493 - val_accuracy: 0.8170\n",
            "Epoch 85/120\n",
            "40/40 [==============================] - 5s 128ms/step - loss: 0.2318 - accuracy: 0.9025 - val_loss: 0.5285 - val_accuracy: 0.8210\n",
            "Epoch 86/120\n",
            "40/40 [==============================] - 5s 121ms/step - loss: 0.2366 - accuracy: 0.8972 - val_loss: 0.4152 - val_accuracy: 0.8290\n",
            "Epoch 87/120\n",
            "40/40 [==============================] - 5s 130ms/step - loss: 0.2255 - accuracy: 0.9036 - val_loss: 0.4340 - val_accuracy: 0.8250\n",
            "Epoch 88/120\n",
            "40/40 [==============================] - 5s 127ms/step - loss: 0.2266 - accuracy: 0.9029 - val_loss: 0.5545 - val_accuracy: 0.8210\n",
            "Epoch 89/120\n",
            "40/40 [==============================] - 5s 125ms/step - loss: 0.2302 - accuracy: 0.9012 - val_loss: 0.4714 - val_accuracy: 0.8110\n",
            "Epoch 90/120\n",
            "40/40 [==============================] - 5s 119ms/step - loss: 0.2256 - accuracy: 0.9006 - val_loss: 0.4811 - val_accuracy: 0.8260\n",
            "Epoch 91/120\n",
            "40/40 [==============================] - 5s 127ms/step - loss: 0.2265 - accuracy: 0.8997 - val_loss: 0.5013 - val_accuracy: 0.8270\n",
            "Epoch 92/120\n",
            "40/40 [==============================] - 5s 130ms/step - loss: 0.2234 - accuracy: 0.9007 - val_loss: 0.4339 - val_accuracy: 0.8170\n",
            "Epoch 93/120\n",
            "40/40 [==============================] - 5s 123ms/step - loss: 0.2279 - accuracy: 0.9025 - val_loss: 0.4666 - val_accuracy: 0.8350\n",
            "Epoch 94/120\n",
            "40/40 [==============================] - 5s 128ms/step - loss: 0.2273 - accuracy: 0.9025 - val_loss: 0.4852 - val_accuracy: 0.8200\n",
            "Epoch 95/120\n",
            "40/40 [==============================] - 5s 124ms/step - loss: 0.2259 - accuracy: 0.9003 - val_loss: 0.5175 - val_accuracy: 0.8190\n",
            "Epoch 96/120\n",
            "40/40 [==============================] - 5s 127ms/step - loss: 0.2249 - accuracy: 0.9013 - val_loss: 0.4358 - val_accuracy: 0.8270\n",
            "Epoch 97/120\n",
            "40/40 [==============================] - 5s 129ms/step - loss: 0.2237 - accuracy: 0.9057 - val_loss: 0.4550 - val_accuracy: 0.8340\n",
            "Epoch 98/120\n",
            "40/40 [==============================] - 5s 125ms/step - loss: 0.2236 - accuracy: 0.9054 - val_loss: 0.4839 - val_accuracy: 0.8190\n",
            "Epoch 99/120\n",
            "40/40 [==============================] - 5s 126ms/step - loss: 0.2264 - accuracy: 0.9001 - val_loss: 0.5346 - val_accuracy: 0.8340\n",
            "Epoch 100/120\n",
            "40/40 [==============================] - 5s 127ms/step - loss: 0.2247 - accuracy: 0.9039 - val_loss: 0.4792 - val_accuracy: 0.8270\n",
            "Epoch 101/120\n",
            "40/40 [==============================] - 5s 124ms/step - loss: 0.2167 - accuracy: 0.9088 - val_loss: 0.5287 - val_accuracy: 0.8230\n",
            "Epoch 102/120\n",
            "40/40 [==============================] - 5s 130ms/step - loss: 0.2150 - accuracy: 0.9084 - val_loss: 0.4974 - val_accuracy: 0.8260\n",
            "Epoch 103/120\n",
            "40/40 [==============================] - 5s 125ms/step - loss: 0.2183 - accuracy: 0.9061 - val_loss: 0.5167 - val_accuracy: 0.8150\n",
            "Epoch 104/120\n",
            "40/40 [==============================] - 5s 129ms/step - loss: 0.2189 - accuracy: 0.9067 - val_loss: 0.5371 - val_accuracy: 0.8190\n",
            "Epoch 105/120\n",
            "40/40 [==============================] - 5s 123ms/step - loss: 0.2194 - accuracy: 0.9065 - val_loss: 0.4480 - val_accuracy: 0.8130\n",
            "Epoch 106/120\n",
            "40/40 [==============================] - 5s 126ms/step - loss: 0.2103 - accuracy: 0.9120 - val_loss: 0.4952 - val_accuracy: 0.8120\n",
            "Epoch 107/120\n",
            "40/40 [==============================] - 5s 135ms/step - loss: 0.2149 - accuracy: 0.9075 - val_loss: 0.5125 - val_accuracy: 0.8250\n",
            "Epoch 108/120\n",
            "40/40 [==============================] - 5s 130ms/step - loss: 0.2186 - accuracy: 0.9048 - val_loss: 0.4985 - val_accuracy: 0.8290\n",
            "Epoch 109/120\n",
            "40/40 [==============================] - 5s 131ms/step - loss: 0.2175 - accuracy: 0.9076 - val_loss: 0.5587 - val_accuracy: 0.8220\n",
            "Epoch 110/120\n",
            "40/40 [==============================] - 5s 129ms/step - loss: 0.2157 - accuracy: 0.9066 - val_loss: 0.4505 - val_accuracy: 0.8190\n",
            "Epoch 111/120\n",
            "40/40 [==============================] - 5s 125ms/step - loss: 0.2166 - accuracy: 0.9102 - val_loss: 0.4401 - val_accuracy: 0.8170\n",
            "Epoch 112/120\n",
            "40/40 [==============================] - 5s 122ms/step - loss: 0.2103 - accuracy: 0.9092 - val_loss: 0.4813 - val_accuracy: 0.8130\n",
            "Epoch 113/120\n",
            "40/40 [==============================] - 5s 129ms/step - loss: 0.2146 - accuracy: 0.9100 - val_loss: 0.5423 - val_accuracy: 0.8280\n",
            "Epoch 114/120\n",
            "40/40 [==============================] - 5s 127ms/step - loss: 0.2148 - accuracy: 0.9051 - val_loss: 0.5049 - val_accuracy: 0.8270\n",
            "Epoch 115/120\n",
            "40/40 [==============================] - 5s 125ms/step - loss: 0.2114 - accuracy: 0.9081 - val_loss: 0.5096 - val_accuracy: 0.8220\n",
            "Epoch 116/120\n",
            "40/40 [==============================] - 5s 123ms/step - loss: 0.2083 - accuracy: 0.9122 - val_loss: 0.5999 - val_accuracy: 0.8140\n",
            "Epoch 117/120\n",
            "40/40 [==============================] - 6s 140ms/step - loss: 0.2081 - accuracy: 0.9126 - val_loss: 0.5432 - val_accuracy: 0.8300\n",
            "Epoch 118/120\n",
            "40/40 [==============================] - 6s 155ms/step - loss: 0.2120 - accuracy: 0.9106 - val_loss: 0.4469 - val_accuracy: 0.8160\n",
            "Epoch 119/120\n",
            "40/40 [==============================] - 5s 133ms/step - loss: 0.2096 - accuracy: 0.9098 - val_loss: 0.5164 - val_accuracy: 0.8170\n",
            "Epoch 120/120\n",
            "40/40 [==============================] - 5s 124ms/step - loss: 0.2094 - accuracy: 0.9102 - val_loss: 0.4497 - val_accuracy: 0.8200\n"
          ]
        }
      ]
    },
    {
      "cell_type": "markdown",
      "source": [
        "## **Saving the Model**"
      ],
      "metadata": {
        "id": "A1dDZeLilSw4"
      }
    },
    {
      "cell_type": "code",
      "source": [
        "filename = 'chatbot_120_epochs_9710.h5'\n",
        "model.save(filename)"
      ],
      "metadata": {
        "id": "qUauCnZ4lLLL"
      },
      "execution_count": null,
      "outputs": []
    },
    {
      "cell_type": "markdown",
      "source": [
        "## **Evaluating the Model**"
      ],
      "metadata": {
        "id": "kEL8N8F9lhZn"
      }
    },
    {
      "cell_type": "markdown",
      "source": [
        "### **Plotting Out Training History**"
      ],
      "metadata": {
        "id": "HpM1eGrtlnLG"
      }
    },
    {
      "cell_type": "code",
      "source": [
        "import matplotlib.pyplot as plt\n",
        "%matplotlib inline\n",
        "print(history.history.keys())\n",
        "# summarize history for accuracy\n",
        "plt.plot(history.history['accuracy'])\n",
        "plt.plot(history.history['val_accuracy'])\n",
        "plt.title('model accuracy')\n",
        "plt.ylabel('accuracy')\n",
        "plt.xlabel('epoch')\n",
        "plt.legend(['train', 'test'], loc='upper left')\n",
        "plt.savefig('accuracy.png', dpi=180, facecolor='white')\n",
        "plt.show()"
      ],
      "metadata": {
        "colab": {
          "base_uri": "https://localhost:8080/",
          "height": 312
        },
        "id": "wxBxe4wKl4qb",
        "outputId": "c9e55645-f5af-4915-af22-bfa125ca6f74"
      },
      "execution_count": null,
      "outputs": [
        {
          "output_type": "stream",
          "name": "stdout",
          "text": [
            "dict_keys(['loss', 'accuracy', 'val_loss', 'val_accuracy'])\n"
          ]
        },
        {
          "output_type": "display_data",
          "data": {
            "text/plain": [
              "<Figure size 432x288 with 1 Axes>"
            ],
            "image/png": "[encoded data removed]"
          },
          "metadata": {
            "needs_background": "light"
          }
        }
      ]
    },
    {
      "cell_type": "markdown",
      "source": [
        "### **Evaluating on Given Test Set**"
      ],
      "metadata": {
        "id": "F3i9np6JmBdO"
      }
    },
    {
      "cell_type": "code",
      "source": [
        "#model.load_weights(filename)\n",
        "pred_results = model.predict(([inputs_test, queries_test]))"
      ],
      "metadata": {
        "id": "tiAok84Nl8T8"
      },
      "execution_count": null,
      "outputs": []
    },
    {
      "cell_type": "code",
      "source": [
        "test_data[0][0]"
      ],
      "metadata": {
        "colab": {
          "base_uri": "https://localhost:8080/"
        },
        "id": "2P-FgzoGmIcZ",
        "outputId": "4ac52f51-bc9e-48ce-b423-5e3f57633924"
      },
      "execution_count": null,
      "outputs": [
        {
          "output_type": "execute_result",
          "data": {
            "text/plain": [
              "['Mary',\n",
              " 'got',\n",
              " 'the',\n",
              " 'milk',\n",
              " 'there',\n",
              " '.',\n",
              " 'John',\n",
              " 'moved',\n",
              " 'to',\n",
              " 'the',\n",
              " 'bedroom',\n",
              " '.']"
            ]
          },
          "metadata": {},
          "execution_count": 68
        }
      ]
    },
    {
      "cell_type": "code",
      "source": [
        "story =' '.join(word for word in test_data[0][0])\n",
        "print(story)"
      ],
      "metadata": {
        "colab": {
          "base_uri": "https://localhost:8080/"
        },
        "id": "iAd2p9AMmL1p",
        "outputId": "c6e1d2b5-2983-45b4-cda8-7999cb285c1c"
      },
      "execution_count": null,
      "outputs": [
        {
          "output_type": "stream",
          "name": "stdout",
          "text": [
            "Mary got the milk there . John moved to the bedroom .\n"
          ]
        }
      ]
    },
    {
      "cell_type": "code",
      "source": [
        "query = ' '.join(word for word in test_data[0][1])\n",
        "print(query)"
      ],
      "metadata": {
        "colab": {
          "base_uri": "https://localhost:8080/"
        },
        "id": "ROLRNi1kmRq8",
        "outputId": "e7d1058d-1a36-44f9-e7ca-e88c3d877132"
      },
      "execution_count": null,
      "outputs": [
        {
          "output_type": "stream",
          "name": "stdout",
          "text": [
            "Is John in the kitchen ?\n"
          ]
        }
      ]
    },
    {
      "cell_type": "code",
      "source": [
        "print(\"True Test Answer from Data is:\",test_data[0][2])"
      ],
      "metadata": {
        "colab": {
          "base_uri": "https://localhost:8080/"
        },
        "id": "NSq7jmDMmWQC",
        "outputId": "da783c74-0d21-4ef6-b81d-f7c128f4b4e1"
      },
      "execution_count": null,
      "outputs": [
        {
          "output_type": "stream",
          "name": "stdout",
          "text": [
            "True Test Answer from Data is: no\n"
          ]
        }
      ]
    },
    {
      "cell_type": "code",
      "source": [
        "#Generate prediction from model\n",
        "val_max = np.argmax(pred_results[0])\n",
        "\n",
        "for key, val in tokenizer.word_index.items():\n",
        "    if val == val_max:\n",
        "        k = key\n",
        "\n",
        "print(\"Predicted answer is: \", k)\n",
        "print(\"Probability of certainty was: \", pred_results[0][val_max])"
      ],
      "metadata": {
        "colab": {
          "base_uri": "https://localhost:8080/"
        },
        "id": "QO0pdtY6maq1",
        "outputId": "5e05d2cb-45ba-4133-d372-874ba4a03cb3"
      },
      "execution_count": null,
      "outputs": [
        {
          "output_type": "stream",
          "name": "stdout",
          "text": [
            "Predicted answer is:  no\n",
            "Probability of certainty was:  0.9971731\n"
          ]
        }
      ]
    },
    {
      "cell_type": "markdown",
      "source": [
        "## **Writing Your Own Stories and Questions**"
      ],
      "metadata": {
        "id": "o5v-qDdJmkx0"
      }
    },
    {
      "cell_type": "markdown",
      "source": [
        "Remember you can only use words from the existing vocab"
      ],
      "metadata": {
        "id": "tLIJkKTamwUG"
      }
    },
    {
      "cell_type": "code",
      "source": [
        "vocab"
      ],
      "metadata": {
        "colab": {
          "base_uri": "https://localhost:8080/"
        },
        "id": "osdJLlt6m7Wh",
        "outputId": "32468f39-d9d9-4a7f-b9ad-06e732fb3142"
      },
      "execution_count": null,
      "outputs": [
        {
          "output_type": "execute_result",
          "data": {
            "text/plain": [
              "{'.',\n",
              " '?',\n",
              " 'Daniel',\n",
              " 'Is',\n",
              " 'John',\n",
              " 'Mary',\n",
              " 'Sandra',\n",
              " 'apple',\n",
              " 'back',\n",
              " 'bathroom',\n",
              " 'bedroom',\n",
              " 'discarded',\n",
              " 'down',\n",
              " 'dropped',\n",
              " 'football',\n",
              " 'garden',\n",
              " 'got',\n",
              " 'grabbed',\n",
              " 'hallway',\n",
              " 'in',\n",
              " 'journeyed',\n",
              " 'kitchen',\n",
              " 'left',\n",
              " 'milk',\n",
              " 'moved',\n",
              " 'no',\n",
              " 'office',\n",
              " 'picked',\n",
              " 'put',\n",
              " 'the',\n",
              " 'there',\n",
              " 'to',\n",
              " 'took',\n",
              " 'travelled',\n",
              " 'up',\n",
              " 'went',\n",
              " 'yes'}"
            ]
          },
          "metadata": {},
          "execution_count": 74
        }
      ]
    },
    {
      "cell_type": "code",
      "source": [
        "# Note the whitespace of the periods\n",
        "my_story = \"John left the kitchen . Sandra dropped the football in the garden .\"\n",
        "my_story.split()"
      ],
      "metadata": {
        "colab": {
          "base_uri": "https://localhost:8080/"
        },
        "id": "c5Ygzw4bm87h",
        "outputId": "f3130ba7-64bb-4017-c9f2-1949788568e7"
      },
      "execution_count": null,
      "outputs": [
        {
          "output_type": "execute_result",
          "data": {
            "text/plain": [
              "['John',\n",
              " 'left',\n",
              " 'the',\n",
              " 'kitchen',\n",
              " '.',\n",
              " 'Sandra',\n",
              " 'dropped',\n",
              " 'the',\n",
              " 'football',\n",
              " 'in',\n",
              " 'the',\n",
              " 'garden',\n",
              " '.']"
            ]
          },
          "metadata": {},
          "execution_count": 73
        }
      ]
    },
    {
      "cell_type": "code",
      "source": [
        "my_question = \"Is the football in the garden ?\""
      ],
      "metadata": {
        "id": "H0gNWMrCnF2z"
      },
      "execution_count": null,
      "outputs": []
    },
    {
      "cell_type": "code",
      "source": [
        "my_question.split()"
      ],
      "metadata": {
        "colab": {
          "base_uri": "https://localhost:8080/"
        },
        "id": "iWiVrMfhnHfF",
        "outputId": "e3e70147-b098-4f99-cded-706d95257609"
      },
      "execution_count": null,
      "outputs": [
        {
          "output_type": "execute_result",
          "data": {
            "text/plain": [
              "['Is', 'the', 'football', 'in', 'the', 'garden', '?']"
            ]
          },
          "metadata": {},
          "execution_count": 76
        }
      ]
    },
    {
      "cell_type": "code",
      "source": [
        "mydata = [(my_story.split(),my_question.split(),'yes')]"
      ],
      "metadata": {
        "id": "WK3weSPqnMdT"
      },
      "execution_count": null,
      "outputs": []
    },
    {
      "cell_type": "code",
      "source": [
        "my_story,my_ques,my_ans = vectorize_stories(mydata)"
      ],
      "metadata": {
        "id": "GYWJt4BGnS0F"
      },
      "execution_count": null,
      "outputs": []
    },
    {
      "cell_type": "code",
      "source": [
        "pred_results = model.predict(([ my_story, my_ques]))"
      ],
      "metadata": {
        "id": "7EAv6R7PnW6Y"
      },
      "execution_count": null,
      "outputs": []
    },
    {
      "cell_type": "code",
      "source": [
        "#Generate prediction from model\n",
        "val_max = np.argmax(pred_results[0])\n",
        "\n",
        "for key, val in tokenizer.word_index.items():\n",
        "    if val == val_max:\n",
        "        k = key\n",
        "\n",
        "print(\"Predicted answer is: \", k)\n",
        "print(\"Probability of certainty was: \", pred_results[0][val_max])"
      ],
      "metadata": {
        "colab": {
          "base_uri": "https://localhost:8080/"
        },
        "id": "7lz1p1zZnbvH",
        "outputId": "e277adba-a8c2-47ab-9021-f0d81e408b90"
      },
      "execution_count": null,
      "outputs": [
        {
          "output_type": "stream",
          "name": "stdout",
          "text": [
            "Predicted answer is:  yes\n",
            "Probability of certainty was:  0.99999034\n"
          ]
        }
      ]
    },
    {
      "cell_type": "markdown",
      "source": [
        "## **test**"
      ],
      "metadata": {
        "id": "3qv1-ngTniFc"
      }
    },
    {
      "cell_type": "code",
      "source": [
        "my_story = \"Sandra grabbed Mary in the kitchen . Sandra picked the apple in the garden . John got back in the office . Mary got the milk . Daniel discarded the apple .\"\n",
        "my_question = \"Is apple in the garden ?\"\n",
        "mydata = [(my_story.split(),my_question.split(),'yes')]\n",
        "my_story,my_ques,my_ans = vectorize_stories(mydata)"
      ],
      "metadata": {
        "id": "1zYi3UYBnnW9"
      },
      "execution_count": null,
      "outputs": []
    },
    {
      "cell_type": "code",
      "source": [
        "pred_results = model.predict(([ my_story, my_ques]))"
      ],
      "metadata": {
        "id": "OYkbo-UmnvDA"
      },
      "execution_count": null,
      "outputs": []
    },
    {
      "cell_type": "code",
      "source": [
        "#Generate prediction from model\n",
        "val_max = np.argmax(pred_results[0])\n",
        "\n",
        "for key, val in tokenizer.word_index.items():\n",
        "    if val == val_max:\n",
        "        k = key\n",
        "\n",
        "print(\"Predicted answer is: \", k)\n",
        "print(\"Probability of certainty was: \", pred_results[0][val_max])"
      ],
      "metadata": {
        "colab": {
          "base_uri": "https://localhost:8080/"
        },
        "id": "0QsATlUJn6u1",
        "outputId": "7f4dcf8f-42f6-4178-b562-40088245eb5e"
      },
      "execution_count": null,
      "outputs": [
        {
          "output_type": "stream",
          "name": "stdout",
          "text": [
            "Predicted answer is:  yes\n",
            "Probability of certainty was:  0.9853114\n"
          ]
        }
      ]
    },
    {
      "cell_type": "code",
      "source": [
        "my_story = 'Daniel grabbed the apple there . Daniel went to the bedroom . John moved to the garden . Sandra journeyed to the office . Daniel put down the apple . Mary went to the bedroom . Mary grabbed the apple there . Sandra went back to the garden . Mary went to the kitchen . Daniel went to the office .'\n",
        "my_question = \"Is Mary in the bedroom ?\"\n",
        "mydata = [(my_story.split(),my_question.split(),'no')]\n",
        "my_story,my_ques,my_ans = vectorize_stories(mydata)"
      ],
      "metadata": {
        "id": "4YDqhKx4q31v"
      },
      "execution_count": null,
      "outputs": []
    },
    {
      "cell_type": "code",
      "source": [
        "pred_results = model.predict(([ my_story, my_ques]))"
      ],
      "metadata": {
        "id": "H5di4wIMoFum"
      },
      "execution_count": null,
      "outputs": []
    },
    {
      "cell_type": "code",
      "source": [
        "#Generate prediction from model\n",
        "val_max = np.argmax(pred_results[0])\n",
        "\n",
        "for key, val in tokenizer.word_index.items():\n",
        "    if val == val_max:\n",
        "        k = key\n",
        "\n",
        "print(\"Predicted answer is: \", k)\n",
        "print(\"Probability of certainty was: \", pred_results[0][val_max])"
      ],
      "metadata": {
        "colab": {
          "base_uri": "https://localhost:8080/"
        },
        "id": "YYVcZalzrADT",
        "outputId": "135e858b-6e1f-46ec-b31c-54e1b751542f"
      },
      "execution_count": null,
      "outputs": [
        {
          "output_type": "stream",
          "name": "stdout",
          "text": [
            "Predicted answer is:  no\n",
            "Probability of certainty was:  0.8895055\n"
          ]
        }
      ]
    },
    {
      "cell_type": "markdown",
      "source": [
        "# **Finding the closest question and answer it**"
      ],
      "metadata": {
        "id": "lIpxK0DfrdkB"
      }
    },
    {
      "cell_type": "markdown",
      "source": [
        "# **Data set**"
      ],
      "metadata": {
        "id": "VLvWCMqQJS2v"
      }
    },
    {
      "cell_type": "markdown",
      "source": [
        "There are three question files, one for each year of students: S08, S09, and S10, as well as 690,000 words worth of cleaned text from Wikipedia that was used to generate the questions.\n",
        "\n",
        "The \"questionanswerpairs.txt\" files contain both the questions and answers. The columns in this file are as follows:\n",
        "\n",
        "ArticleTitle is the name of the Wikipedia article from which questions and answers initially came.\n",
        "\n",
        "Question is the question.\n",
        "\n",
        "Answer is the answer.\n",
        "\n",
        "Difficulty From Questioner is the prescribed difficulty rating for the question as given to the question-writer.\n",
        "\n",
        "Difficulty From Answerer is a difficulty rating assigned by the individual who evaluated and answered the question, which may differ from the difficulty in field 4.\n",
        "\n",
        "ArticleFile is the name of the file with the relevant article\n",
        "Questions that were judged to be poor were discarded from this data set.\n",
        "\n",
        "There are frequently multiple lines with the same question, which appear if those questions were answered by multiple individuals."
      ],
      "metadata": {
        "id": "ZFq0vBwGIog-"
      }
    },
    {
      "cell_type": "code",
      "source": [
        ""
      ],
      "metadata": {
        "id": "Tx0LSVMx_A_9"
      },
      "execution_count": null,
      "outputs": []
    },
    {
      "cell_type": "code",
      "source": [
        "import keras\n",
        "from keras.models import Sequential, Model\n",
        "from keras.layers.embeddings import Embedding\n",
        "from keras.layers import Input, Activation, Dense, Permute, Dropout\n",
        "from keras.layers import add, dot, concatenate\n",
        "from keras.layers import LSTM, GRU\n",
        "from keras.utils.data_utils import get_file\n",
        "from keras.preprocessing.sequence import pad_sequences\n",
        "from keras import backend as K\n",
        "\n",
        "from functools import reduce\n",
        "import tarfile\n",
        "import numpy as np\n",
        "import re\n",
        "\n",
        "import IPython\n",
        "import matplotlib.pyplot as plt\n",
        "import pandas as pd\n",
        "%matplotlib inline"
      ],
      "metadata": {
        "id": "QJMj8TgA_N2j"
      },
      "execution_count": 1,
      "outputs": []
    },
    {
      "cell_type": "code",
      "source": [
        "df1 = pd.read_csv('/content/drive/MyDrive/Colab Notebooks/Automated Question Answer System/S08_question_answer_pairs.txt', sep='\\t')\n",
        "df2 = pd.read_csv('/content/drive/MyDrive/Colab Notebooks/Automated Question Answer System/S09_question_answer_pairs.txt', sep='\\t')\n",
        "df3 = pd.read_csv('/content/drive/MyDrive/Colab Notebooks/Automated Question Answer System/S10_question_answer_pairs.txt', sep='\\t', encoding = 'ISO-8859-1')"
      ],
      "metadata": {
        "id": "GHakoartGJ5q"
      },
      "execution_count": 3,
      "outputs": []
    },
    {
      "cell_type": "markdown",
      "source": [
        "# **Preprocessing data**"
      ],
      "metadata": {
        "id": "Lr_wDGeRQnO_"
      }
    },
    {
      "cell_type": "code",
      "source": [
        "df1.head(20)"
      ],
      "metadata": {
        "colab": {
          "base_uri": "https://localhost:8080/",
          "height": 1000
        },
        "id": "Mzup7UdIGRm5",
        "outputId": "1298a411-fcca-4fc1-ab49-49e9620821f9"
      },
      "execution_count": 4,
      "outputs": [
        {
          "output_type": "execute_result",
          "data": {
            "text/plain": [
              "       ArticleTitle                                           Question  \\\n",
              "0   Abraham_Lincoln  Was Abraham Lincoln the sixteenth President of...   \n",
              "1   Abraham_Lincoln  Was Abraham Lincoln the sixteenth President of...   \n",
              "2   Abraham_Lincoln  Did Lincoln sign the National Banking Act of 1...   \n",
              "3   Abraham_Lincoln  Did Lincoln sign the National Banking Act of 1...   \n",
              "4   Abraham_Lincoln                   Did his mother die of pneumonia?   \n",
              "5   Abraham_Lincoln                   Did his mother die of pneumonia?   \n",
              "6   Abraham_Lincoln      How many long was Lincoln's formal education?   \n",
              "7   Abraham_Lincoln      How many long was Lincoln's formal education?   \n",
              "8   Abraham_Lincoln       When did Lincoln begin his political career?   \n",
              "9   Abraham_Lincoln       When did Lincoln begin his political career?   \n",
              "10  Abraham_Lincoln   What did The Legal Tender Act of 1862 establish?   \n",
              "11  Abraham_Lincoln   What did The Legal Tender Act of 1862 establish?   \n",
              "12  Abraham_Lincoln                Who suggested Lincoln grow a beard?   \n",
              "13  Abraham_Lincoln                Who suggested Lincoln grow a beard?   \n",
              "14  Abraham_Lincoln  When did the Gettysburg address argue that Ame...   \n",
              "15  Abraham_Lincoln  When did the Gettysburg address argue that Ame...   \n",
              "16  Abraham_Lincoln  Did Lincoln beat John C. Breckinridge in the 1...   \n",
              "17  Abraham_Lincoln  Did Lincoln beat John C. Breckinridge in the 1...   \n",
              "18  Abraham_Lincoln  Was Abraham Lincoln the first President of the...   \n",
              "19  Abraham_Lincoln  Was Abraham Lincoln the first President of the...   \n",
              "\n",
              "                                               Answer  \\\n",
              "0                                                 yes   \n",
              "1                                                Yes.   \n",
              "2                                                 yes   \n",
              "3                                                Yes.   \n",
              "4                                                  no   \n",
              "5                                                 No.   \n",
              "6                                           18 months   \n",
              "7                                          18 months.   \n",
              "8                                                1832   \n",
              "9                                               1832.   \n",
              "10  the United States Note, the first paper curren...   \n",
              "11  The United States Note, the first paper curren...   \n",
              "12                           11-year-old Grace Bedell   \n",
              "13                                      Grace Bedell.   \n",
              "14                                               1776   \n",
              "15                                              1776.   \n",
              "16                                                yes   \n",
              "17                                               Yes.   \n",
              "18                                                 No   \n",
              "19                                                 No   \n",
              "\n",
              "   DifficultyFromQuestioner DifficultyFromAnswerer  ArticleFile  \n",
              "0                      easy                   easy  S08_set3_a4  \n",
              "1                      easy                   easy  S08_set3_a4  \n",
              "2                      easy                 medium  S08_set3_a4  \n",
              "3                      easy                   easy  S08_set3_a4  \n",
              "4                      easy                 medium  S08_set3_a4  \n",
              "5                      easy                   easy  S08_set3_a4  \n",
              "6                    medium                   easy  S08_set3_a4  \n",
              "7                    medium                 medium  S08_set3_a4  \n",
              "8                    medium                   easy  S08_set3_a4  \n",
              "9                    medium                 medium  S08_set3_a4  \n",
              "10                   medium                   easy  S08_set3_a4  \n",
              "11                   medium                 medium  S08_set3_a4  \n",
              "12                     hard                 medium  S08_set3_a4  \n",
              "13                     hard                 medium  S08_set3_a4  \n",
              "14                     hard                   hard  S08_set3_a4  \n",
              "15                     hard                   hard  S08_set3_a4  \n",
              "16                     hard                 medium  S08_set3_a4  \n",
              "17                     hard                   hard  S08_set3_a4  \n",
              "18                     easy                   easy  S08_set3_a4  \n",
              "19                     easy                 medium  S08_set3_a4  "
            ],
            "text/html": [
              "\n",
              "  <div id=\"df-c73cc0af-6312-423c-96be-e866fff235f4\">\n",
              "    <div class=\"colab-df-container\">\n",
              "      <div>\n",
              "<style scoped>\n",
              "    .dataframe tbody tr th:only-of-type {\n",
              "        vertical-align: middle;\n",
              "    }\n",
              "\n",
              "    .dataframe tbody tr th {\n",
              "        vertical-align: top;\n",
              "    }\n",
              "\n",
              "    .dataframe thead th {\n",
              "        text-align: right;\n",
              "    }\n",
              "</style>\n",
              "<table border=\"1\" class=\"dataframe\">\n",
              "  <thead>\n",
              "    <tr style=\"text-align: right;\">\n",
              "      <th></th>\n",
              "      <th>ArticleTitle</th>\n",
              "      <th>Question</th>\n",
              "      <th>Answer</th>\n",
              "      <th>DifficultyFromQuestioner</th>\n",
              "      <th>DifficultyFromAnswerer</th>\n",
              "      <th>ArticleFile</th>\n",
              "    </tr>\n",
              "  </thead>\n",
              "  <tbody>\n",
              "    <tr>\n",
              "      <th>0</th>\n",
              "      <td>Abraham_Lincoln</td>\n",
              "      <td>Was Abraham Lincoln the sixteenth President of...</td>\n",
              "      <td>yes</td>\n",
              "      <td>easy</td>\n",
              "      <td>easy</td>\n",
              "      <td>S08_set3_a4</td>\n",
              "    </tr>\n",
              "    <tr>\n",
              "      <th>1</th>\n",
              "      <td>Abraham_Lincoln</td>\n",
              "      <td>Was Abraham Lincoln the sixteenth President of...</td>\n",
              "      <td>Yes.</td>\n",
              "      <td>easy</td>\n",
              "      <td>easy</td>\n",
              "      <td>S08_set3_a4</td>\n",
              "    </tr>\n",
              "    <tr>\n",
              "      <th>2</th>\n",
              "      <td>Abraham_Lincoln</td>\n",
              "      <td>Did Lincoln sign the National Banking Act of 1...</td>\n",
              "      <td>yes</td>\n",
              "      <td>easy</td>\n",
              "      <td>medium</td>\n",
              "      <td>S08_set3_a4</td>\n",
              "    </tr>\n",
              "    <tr>\n",
              "      <th>3</th>\n",
              "      <td>Abraham_Lincoln</td>\n",
              "      <td>Did Lincoln sign the National Banking Act of 1...</td>\n",
              "      <td>Yes.</td>\n",
              "      <td>easy</td>\n",
              "      <td>easy</td>\n",
              "      <td>S08_set3_a4</td>\n",
              "    </tr>\n",
              "    <tr>\n",
              "      <th>4</th>\n",
              "      <td>Abraham_Lincoln</td>\n",
              "      <td>Did his mother die of pneumonia?</td>\n",
              "      <td>no</td>\n",
              "      <td>easy</td>\n",
              "      <td>medium</td>\n",
              "      <td>S08_set3_a4</td>\n",
              "    </tr>\n",
              "    <tr>\n",
              "      <th>5</th>\n",
              "      <td>Abraham_Lincoln</td>\n",
              "      <td>Did his mother die of pneumonia?</td>\n",
              "      <td>No.</td>\n",
              "      <td>easy</td>\n",
              "      <td>easy</td>\n",
              "      <td>S08_set3_a4</td>\n",
              "    </tr>\n",
              "    <tr>\n",
              "      <th>6</th>\n",
              "      <td>Abraham_Lincoln</td>\n",
              "      <td>How many long was Lincoln's formal education?</td>\n",
              "      <td>18 months</td>\n",
              "      <td>medium</td>\n",
              "      <td>easy</td>\n",
              "      <td>S08_set3_a4</td>\n",
              "    </tr>\n",
              "    <tr>\n",
              "      <th>7</th>\n",
              "      <td>Abraham_Lincoln</td>\n",
              "      <td>How many long was Lincoln's formal education?</td>\n",
              "      <td>18 months.</td>\n",
              "      <td>medium</td>\n",
              "      <td>medium</td>\n",
              "      <td>S08_set3_a4</td>\n",
              "    </tr>\n",
              "    <tr>\n",
              "      <th>8</th>\n",
              "      <td>Abraham_Lincoln</td>\n",
              "      <td>When did Lincoln begin his political career?</td>\n",
              "      <td>1832</td>\n",
              "      <td>medium</td>\n",
              "      <td>easy</td>\n",
              "      <td>S08_set3_a4</td>\n",
              "    </tr>\n",
              "    <tr>\n",
              "      <th>9</th>\n",
              "      <td>Abraham_Lincoln</td>\n",
              "      <td>When did Lincoln begin his political career?</td>\n",
              "      <td>1832.</td>\n",
              "      <td>medium</td>\n",
              "      <td>medium</td>\n",
              "      <td>S08_set3_a4</td>\n",
              "    </tr>\n",
              "    <tr>\n",
              "      <th>10</th>\n",
              "      <td>Abraham_Lincoln</td>\n",
              "      <td>What did The Legal Tender Act of 1862 establish?</td>\n",
              "      <td>the United States Note, the first paper curren...</td>\n",
              "      <td>medium</td>\n",
              "      <td>easy</td>\n",
              "      <td>S08_set3_a4</td>\n",
              "    </tr>\n",
              "    <tr>\n",
              "      <th>11</th>\n",
              "      <td>Abraham_Lincoln</td>\n",
              "      <td>What did The Legal Tender Act of 1862 establish?</td>\n",
              "      <td>The United States Note, the first paper curren...</td>\n",
              "      <td>medium</td>\n",
              "      <td>medium</td>\n",
              "      <td>S08_set3_a4</td>\n",
              "    </tr>\n",
              "    <tr>\n",
              "      <th>12</th>\n",
              "      <td>Abraham_Lincoln</td>\n",
              "      <td>Who suggested Lincoln grow a beard?</td>\n",
              "      <td>11-year-old Grace Bedell</td>\n",
              "      <td>hard</td>\n",
              "      <td>medium</td>\n",
              "      <td>S08_set3_a4</td>\n",
              "    </tr>\n",
              "    <tr>\n",
              "      <th>13</th>\n",
              "      <td>Abraham_Lincoln</td>\n",
              "      <td>Who suggested Lincoln grow a beard?</td>\n",
              "      <td>Grace Bedell.</td>\n",
              "      <td>hard</td>\n",
              "      <td>medium</td>\n",
              "      <td>S08_set3_a4</td>\n",
              "    </tr>\n",
              "    <tr>\n",
              "      <th>14</th>\n",
              "      <td>Abraham_Lincoln</td>\n",
              "      <td>When did the Gettysburg address argue that Ame...</td>\n",
              "      <td>1776</td>\n",
              "      <td>hard</td>\n",
              "      <td>hard</td>\n",
              "      <td>S08_set3_a4</td>\n",
              "    </tr>\n",
              "    <tr>\n",
              "      <th>15</th>\n",
              "      <td>Abraham_Lincoln</td>\n",
              "      <td>When did the Gettysburg address argue that Ame...</td>\n",
              "      <td>1776.</td>\n",
              "      <td>hard</td>\n",
              "      <td>hard</td>\n",
              "      <td>S08_set3_a4</td>\n",
              "    </tr>\n",
              "    <tr>\n",
              "      <th>16</th>\n",
              "      <td>Abraham_Lincoln</td>\n",
              "      <td>Did Lincoln beat John C. Breckinridge in the 1...</td>\n",
              "      <td>yes</td>\n",
              "      <td>hard</td>\n",
              "      <td>medium</td>\n",
              "      <td>S08_set3_a4</td>\n",
              "    </tr>\n",
              "    <tr>\n",
              "      <th>17</th>\n",
              "      <td>Abraham_Lincoln</td>\n",
              "      <td>Did Lincoln beat John C. Breckinridge in the 1...</td>\n",
              "      <td>Yes.</td>\n",
              "      <td>hard</td>\n",
              "      <td>hard</td>\n",
              "      <td>S08_set3_a4</td>\n",
              "    </tr>\n",
              "    <tr>\n",
              "      <th>18</th>\n",
              "      <td>Abraham_Lincoln</td>\n",
              "      <td>Was Abraham Lincoln the first President of the...</td>\n",
              "      <td>No</td>\n",
              "      <td>easy</td>\n",
              "      <td>easy</td>\n",
              "      <td>S08_set3_a4</td>\n",
              "    </tr>\n",
              "    <tr>\n",
              "      <th>19</th>\n",
              "      <td>Abraham_Lincoln</td>\n",
              "      <td>Was Abraham Lincoln the first President of the...</td>\n",
              "      <td>No</td>\n",
              "      <td>easy</td>\n",
              "      <td>medium</td>\n",
              "      <td>S08_set3_a4</td>\n",
              "    </tr>\n",
              "  </tbody>\n",
              "</table>\n",
              "</div>\n",
              "      <button class=\"colab-df-convert\" onclick=\"convertToInteractive('df-c73cc0af-6312-423c-96be-e866fff235f4')\"\n",
              "              title=\"Convert this dataframe to an interactive table.\"\n",
              "              style=\"display:none;\">\n",
              "        \n",
              "  <svg xmlns=\"http://www.w3.org/2000/svg\" height=\"24px\"viewBox=\"0 0 24 24\"\n",
              "       width=\"24px\">\n",
              "    <path d=\"M0 0h24v24H0V0z\" fill=\"none\"/>\n",
              "    <path d=\"M18.56 5.44l.94 2.06.94-2.06 2.06-.94-2.06-.94-.94-2.06-.94 2.06-2.06.94zm-11 1L8.5 8.5l.94-2.06 2.06-.94-2.06-.94L8.5 2.5l-.94 2.06-2.06.94zm10 10l.94 2.06.94-2.06 2.06-.94-2.06-.94-.94-2.06-.94 2.06-2.06.94z\"/><path d=\"M17.41 7.96l-1.37-1.37c-.4-.4-.92-.59-1.43-.59-.52 0-1.04.2-1.43.59L10.3 9.45l-7.72 7.72c-.78.78-.78 2.05 0 2.83L4 21.41c.39.39.9.59 1.41.59.51 0 1.02-.2 1.41-.59l7.78-7.78 2.81-2.81c.8-.78.8-2.07 0-2.86zM5.41 20L4 18.59l7.72-7.72 1.47 1.35L5.41 20z\"/>\n",
              "  </svg>\n",
              "      </button>\n",
              "      \n",
              "  <style>\n",
              "    .colab-df-container {\n",
              "      display:flex;\n",
              "      flex-wrap:wrap;\n",
              "      gap: 12px;\n",
              "    }\n",
              "\n",
              "    .colab-df-convert {\n",
              "      background-color: #E8F0FE;\n",
              "      border: none;\n",
              "      border-radius: 50%;\n",
              "      cursor: pointer;\n",
              "      display: none;\n",
              "      fill: #1967D2;\n",
              "      height: 32px;\n",
              "      padding: 0 0 0 0;\n",
              "      width: 32px;\n",
              "    }\n",
              "\n",
              "    .colab-df-convert:hover {\n",
              "      background-color: #E2EBFA;\n",
              "      box-shadow: 0px 1px 2px rgba(60, 64, 67, 0.3), 0px 1px 3px 1px rgba(60, 64, 67, 0.15);\n",
              "      fill: #174EA6;\n",
              "    }\n",
              "\n",
              "    [theme=dark] .colab-df-convert {\n",
              "      background-color: #3B4455;\n",
              "      fill: #D2E3FC;\n",
              "    }\n",
              "\n",
              "    [theme=dark] .colab-df-convert:hover {\n",
              "      background-color: #434B5C;\n",
              "      box-shadow: 0px 1px 3px 1px rgba(0, 0, 0, 0.15);\n",
              "      filter: drop-shadow(0px 1px 2px rgba(0, 0, 0, 0.3));\n",
              "      fill: #FFFFFF;\n",
              "    }\n",
              "  </style>\n",
              "\n",
              "      <script>\n",
              "        const buttonEl =\n",
              "          document.querySelector('#df-c73cc0af-6312-423c-96be-e866fff235f4 button.colab-df-convert');\n",
              "        buttonEl.style.display =\n",
              "          google.colab.kernel.accessAllowed ? 'block' : 'none';\n",
              "\n",
              "        async function convertToInteractive(key) {\n",
              "          const element = document.querySelector('#df-c73cc0af-6312-423c-96be-e866fff235f4');\n",
              "          const dataTable =\n",
              "            await google.colab.kernel.invokeFunction('convertToInteractive',\n",
              "                                                     [key], {});\n",
              "          if (!dataTable) return;\n",
              "\n",
              "          const docLinkHtml = 'Like what you see? Visit the ' +\n",
              "            '<a target=\"_blank\" href=https://colab.research.google.com/notebooks/data_table.ipynb>data table notebook</a>'\n",
              "            + ' to learn more about interactive tables.';\n",
              "          element.innerHTML = '';\n",
              "          dataTable['output_type'] = 'display_data';\n",
              "          await google.colab.output.renderOutput(dataTable, element);\n",
              "          const docLink = document.createElement('div');\n",
              "          docLink.innerHTML = docLinkHtml;\n",
              "          element.appendChild(docLink);\n",
              "        }\n",
              "      </script>\n",
              "    </div>\n",
              "  </div>\n",
              "  "
            ]
          },
          "metadata": {},
          "execution_count": 4
        }
      ]
    },
    {
      "cell_type": "code",
      "source": [
        "all_data = df1.append([df2, df3])\n",
        "all_data.info()"
      ],
      "metadata": {
        "colab": {
          "base_uri": "https://localhost:8080/"
        },
        "id": "cmqprmmHGVg1",
        "outputId": "f105ba73-aea6-4bac-dd57-56481a5a593a"
      },
      "execution_count": 5,
      "outputs": [
        {
          "output_type": "stream",
          "name": "stdout",
          "text": [
            "<class 'pandas.core.frame.DataFrame'>\n",
            "Int64Index: 3998 entries, 0 to 1457\n",
            "Data columns (total 6 columns):\n",
            " #   Column                    Non-Null Count  Dtype \n",
            "---  ------                    --------------  ----- \n",
            " 0   ArticleTitle              3998 non-null   object\n",
            " 1   Question                  3961 non-null   object\n",
            " 2   Answer                    3422 non-null   object\n",
            " 3   DifficultyFromQuestioner  3043 non-null   object\n",
            " 4   DifficultyFromAnswerer    3418 non-null   object\n",
            " 5   ArticleFile               3996 non-null   object\n",
            "dtypes: object(6)\n",
            "memory usage: 218.6+ KB\n"
          ]
        }
      ]
    },
    {
      "cell_type": "code",
      "source": [
        "all_data['Question'] = all_data['ArticleTitle'].str.replace('_', ' ') + ' ' + all_data['Question']\n",
        "all_data = all_data[['Question', 'Answer']]\n",
        "all_data.shape"
      ],
      "metadata": {
        "colab": {
          "base_uri": "https://localhost:8080/"
        },
        "id": "dEMRHaNEGb-K",
        "outputId": "d673da81-6585-4bad-9b73-5f7719994f5d"
      },
      "execution_count": 6,
      "outputs": [
        {
          "output_type": "execute_result",
          "data": {
            "text/plain": [
              "(3998, 2)"
            ]
          },
          "metadata": {},
          "execution_count": 6
        }
      ]
    },
    {
      "cell_type": "code",
      "source": [
        "all_data.head(10)"
      ],
      "metadata": {
        "colab": {
          "base_uri": "https://localhost:8080/",
          "height": 363
        },
        "id": "ke6J8c2bGhpF",
        "outputId": "c2ff7436-5590-48c7-b3d2-926f8f511510"
      },
      "execution_count": 7,
      "outputs": [
        {
          "output_type": "execute_result",
          "data": {
            "text/plain": [
              "                                            Question      Answer\n",
              "0  Abraham Lincoln Was Abraham Lincoln the sixtee...         yes\n",
              "1  Abraham Lincoln Was Abraham Lincoln the sixtee...        Yes.\n",
              "2  Abraham Lincoln Did Lincoln sign the National ...         yes\n",
              "3  Abraham Lincoln Did Lincoln sign the National ...        Yes.\n",
              "4   Abraham Lincoln Did his mother die of pneumonia?          no\n",
              "5   Abraham Lincoln Did his mother die of pneumonia?         No.\n",
              "6  Abraham Lincoln How many long was Lincoln's fo...   18 months\n",
              "7  Abraham Lincoln How many long was Lincoln's fo...  18 months.\n",
              "8  Abraham Lincoln When did Lincoln begin his pol...        1832\n",
              "9  Abraham Lincoln When did Lincoln begin his pol...       1832."
            ],
            "text/html": [
              "\n",
              "  <div id=\"df-e7606b24-0606-44b0-9648-b25bd661dc4a\">\n",
              "    <div class=\"colab-df-container\">\n",
              "      <div>\n",
              "<style scoped>\n",
              "    .dataframe tbody tr th:only-of-type {\n",
              "        vertical-align: middle;\n",
              "    }\n",
              "\n",
              "    .dataframe tbody tr th {\n",
              "        vertical-align: top;\n",
              "    }\n",
              "\n",
              "    .dataframe thead th {\n",
              "        text-align: right;\n",
              "    }\n",
              "</style>\n",
              "<table border=\"1\" class=\"dataframe\">\n",
              "  <thead>\n",
              "    <tr style=\"text-align: right;\">\n",
              "      <th></th>\n",
              "      <th>Question</th>\n",
              "      <th>Answer</th>\n",
              "    </tr>\n",
              "  </thead>\n",
              "  <tbody>\n",
              "    <tr>\n",
              "      <th>0</th>\n",
              "      <td>Abraham Lincoln Was Abraham Lincoln the sixtee...</td>\n",
              "      <td>yes</td>\n",
              "    </tr>\n",
              "    <tr>\n",
              "      <th>1</th>\n",
              "      <td>Abraham Lincoln Was Abraham Lincoln the sixtee...</td>\n",
              "      <td>Yes.</td>\n",
              "    </tr>\n",
              "    <tr>\n",
              "      <th>2</th>\n",
              "      <td>Abraham Lincoln Did Lincoln sign the National ...</td>\n",
              "      <td>yes</td>\n",
              "    </tr>\n",
              "    <tr>\n",
              "      <th>3</th>\n",
              "      <td>Abraham Lincoln Did Lincoln sign the National ...</td>\n",
              "      <td>Yes.</td>\n",
              "    </tr>\n",
              "    <tr>\n",
              "      <th>4</th>\n",
              "      <td>Abraham Lincoln Did his mother die of pneumonia?</td>\n",
              "      <td>no</td>\n",
              "    </tr>\n",
              "    <tr>\n",
              "      <th>5</th>\n",
              "      <td>Abraham Lincoln Did his mother die of pneumonia?</td>\n",
              "      <td>No.</td>\n",
              "    </tr>\n",
              "    <tr>\n",
              "      <th>6</th>\n",
              "      <td>Abraham Lincoln How many long was Lincoln's fo...</td>\n",
              "      <td>18 months</td>\n",
              "    </tr>\n",
              "    <tr>\n",
              "      <th>7</th>\n",
              "      <td>Abraham Lincoln How many long was Lincoln's fo...</td>\n",
              "      <td>18 months.</td>\n",
              "    </tr>\n",
              "    <tr>\n",
              "      <th>8</th>\n",
              "      <td>Abraham Lincoln When did Lincoln begin his pol...</td>\n",
              "      <td>1832</td>\n",
              "    </tr>\n",
              "    <tr>\n",
              "      <th>9</th>\n",
              "      <td>Abraham Lincoln When did Lincoln begin his pol...</td>\n",
              "      <td>1832.</td>\n",
              "    </tr>\n",
              "  </tbody>\n",
              "</table>\n",
              "</div>\n",
              "      <button class=\"colab-df-convert\" onclick=\"convertToInteractive('df-e7606b24-0606-44b0-9648-b25bd661dc4a')\"\n",
              "              title=\"Convert this dataframe to an interactive table.\"\n",
              "              style=\"display:none;\">\n",
              "        \n",
              "  <svg xmlns=\"http://www.w3.org/2000/svg\" height=\"24px\"viewBox=\"0 0 24 24\"\n",
              "       width=\"24px\">\n",
              "    <path d=\"M0 0h24v24H0V0z\" fill=\"none\"/>\n",
              "    <path d=\"M18.56 5.44l.94 2.06.94-2.06 2.06-.94-2.06-.94-.94-2.06-.94 2.06-2.06.94zm-11 1L8.5 8.5l.94-2.06 2.06-.94-2.06-.94L8.5 2.5l-.94 2.06-2.06.94zm10 10l.94 2.06.94-2.06 2.06-.94-2.06-.94-.94-2.06-.94 2.06-2.06.94z\"/><path d=\"M17.41 7.96l-1.37-1.37c-.4-.4-.92-.59-1.43-.59-.52 0-1.04.2-1.43.59L10.3 9.45l-7.72 7.72c-.78.78-.78 2.05 0 2.83L4 21.41c.39.39.9.59 1.41.59.51 0 1.02-.2 1.41-.59l7.78-7.78 2.81-2.81c.8-.78.8-2.07 0-2.86zM5.41 20L4 18.59l7.72-7.72 1.47 1.35L5.41 20z\"/>\n",
              "  </svg>\n",
              "      </button>\n",
              "      \n",
              "  <style>\n",
              "    .colab-df-container {\n",
              "      display:flex;\n",
              "      flex-wrap:wrap;\n",
              "      gap: 12px;\n",
              "    }\n",
              "\n",
              "    .colab-df-convert {\n",
              "      background-color: #E8F0FE;\n",
              "      border: none;\n",
              "      border-radius: 50%;\n",
              "      cursor: pointer;\n",
              "      display: none;\n",
              "      fill: #1967D2;\n",
              "      height: 32px;\n",
              "      padding: 0 0 0 0;\n",
              "      width: 32px;\n",
              "    }\n",
              "\n",
              "    .colab-df-convert:hover {\n",
              "      background-color: #E2EBFA;\n",
              "      box-shadow: 0px 1px 2px rgba(60, 64, 67, 0.3), 0px 1px 3px 1px rgba(60, 64, 67, 0.15);\n",
              "      fill: #174EA6;\n",
              "    }\n",
              "\n",
              "    [theme=dark] .colab-df-convert {\n",
              "      background-color: #3B4455;\n",
              "      fill: #D2E3FC;\n",
              "    }\n",
              "\n",
              "    [theme=dark] .colab-df-convert:hover {\n",
              "      background-color: #434B5C;\n",
              "      box-shadow: 0px 1px 3px 1px rgba(0, 0, 0, 0.15);\n",
              "      filter: drop-shadow(0px 1px 2px rgba(0, 0, 0, 0.3));\n",
              "      fill: #FFFFFF;\n",
              "    }\n",
              "  </style>\n",
              "\n",
              "      <script>\n",
              "        const buttonEl =\n",
              "          document.querySelector('#df-e7606b24-0606-44b0-9648-b25bd661dc4a button.colab-df-convert');\n",
              "        buttonEl.style.display =\n",
              "          google.colab.kernel.accessAllowed ? 'block' : 'none';\n",
              "\n",
              "        async function convertToInteractive(key) {\n",
              "          const element = document.querySelector('#df-e7606b24-0606-44b0-9648-b25bd661dc4a');\n",
              "          const dataTable =\n",
              "            await google.colab.kernel.invokeFunction('convertToInteractive',\n",
              "                                                     [key], {});\n",
              "          if (!dataTable) return;\n",
              "\n",
              "          const docLinkHtml = 'Like what you see? Visit the ' +\n",
              "            '<a target=\"_blank\" href=https://colab.research.google.com/notebooks/data_table.ipynb>data table notebook</a>'\n",
              "            + ' to learn more about interactive tables.';\n",
              "          element.innerHTML = '';\n",
              "          dataTable['output_type'] = 'display_data';\n",
              "          await google.colab.output.renderOutput(dataTable, element);\n",
              "          const docLink = document.createElement('div');\n",
              "          docLink.innerHTML = docLinkHtml;\n",
              "          element.appendChild(docLink);\n",
              "        }\n",
              "      </script>\n",
              "    </div>\n",
              "  </div>\n",
              "  "
            ]
          },
          "metadata": {},
          "execution_count": 7
        }
      ]
    },
    {
      "cell_type": "code",
      "source": [
        "all_data = all_data.drop_duplicates(subset='Question')\n",
        "all_data.head(10)"
      ],
      "metadata": {
        "colab": {
          "base_uri": "https://localhost:8080/",
          "height": 363
        },
        "id": "Bh-6PBOEGnA_",
        "outputId": "11cbf02c-1899-4f7c-bce2-ab55765125a8"
      },
      "execution_count": 8,
      "outputs": [
        {
          "output_type": "execute_result",
          "data": {
            "text/plain": [
              "                                             Question  \\\n",
              "0   Abraham Lincoln Was Abraham Lincoln the sixtee...   \n",
              "2   Abraham Lincoln Did Lincoln sign the National ...   \n",
              "4    Abraham Lincoln Did his mother die of pneumonia?   \n",
              "6   Abraham Lincoln How many long was Lincoln's fo...   \n",
              "8   Abraham Lincoln When did Lincoln begin his pol...   \n",
              "10  Abraham Lincoln What did The Legal Tender Act ...   \n",
              "12  Abraham Lincoln Who suggested Lincoln grow a b...   \n",
              "14  Abraham Lincoln When did the Gettysburg addres...   \n",
              "16  Abraham Lincoln Did Lincoln beat John C. Breck...   \n",
              "18  Abraham Lincoln Was Abraham Lincoln the first ...   \n",
              "\n",
              "                                               Answer  \n",
              "0                                                 yes  \n",
              "2                                                 yes  \n",
              "4                                                  no  \n",
              "6                                           18 months  \n",
              "8                                                1832  \n",
              "10  the United States Note, the first paper curren...  \n",
              "12                           11-year-old Grace Bedell  \n",
              "14                                               1776  \n",
              "16                                                yes  \n",
              "18                                                 No  "
            ],
            "text/html": [
              "\n",
              "  <div id=\"df-ffcbb6ec-4c09-473e-8190-b71c1fd28e3b\">\n",
              "    <div class=\"colab-df-container\">\n",
              "      <div>\n",
              "<style scoped>\n",
              "    .dataframe tbody tr th:only-of-type {\n",
              "        vertical-align: middle;\n",
              "    }\n",
              "\n",
              "    .dataframe tbody tr th {\n",
              "        vertical-align: top;\n",
              "    }\n",
              "\n",
              "    .dataframe thead th {\n",
              "        text-align: right;\n",
              "    }\n",
              "</style>\n",
              "<table border=\"1\" class=\"dataframe\">\n",
              "  <thead>\n",
              "    <tr style=\"text-align: right;\">\n",
              "      <th></th>\n",
              "      <th>Question</th>\n",
              "      <th>Answer</th>\n",
              "    </tr>\n",
              "  </thead>\n",
              "  <tbody>\n",
              "    <tr>\n",
              "      <th>0</th>\n",
              "      <td>Abraham Lincoln Was Abraham Lincoln the sixtee...</td>\n",
              "      <td>yes</td>\n",
              "    </tr>\n",
              "    <tr>\n",
              "      <th>2</th>\n",
              "      <td>Abraham Lincoln Did Lincoln sign the National ...</td>\n",
              "      <td>yes</td>\n",
              "    </tr>\n",
              "    <tr>\n",
              "      <th>4</th>\n",
              "      <td>Abraham Lincoln Did his mother die of pneumonia?</td>\n",
              "      <td>no</td>\n",
              "    </tr>\n",
              "    <tr>\n",
              "      <th>6</th>\n",
              "      <td>Abraham Lincoln How many long was Lincoln's fo...</td>\n",
              "      <td>18 months</td>\n",
              "    </tr>\n",
              "    <tr>\n",
              "      <th>8</th>\n",
              "      <td>Abraham Lincoln When did Lincoln begin his pol...</td>\n",
              "      <td>1832</td>\n",
              "    </tr>\n",
              "    <tr>\n",
              "      <th>10</th>\n",
              "      <td>Abraham Lincoln What did The Legal Tender Act ...</td>\n",
              "      <td>the United States Note, the first paper curren...</td>\n",
              "    </tr>\n",
              "    <tr>\n",
              "      <th>12</th>\n",
              "      <td>Abraham Lincoln Who suggested Lincoln grow a b...</td>\n",
              "      <td>11-year-old Grace Bedell</td>\n",
              "    </tr>\n",
              "    <tr>\n",
              "      <th>14</th>\n",
              "      <td>Abraham Lincoln When did the Gettysburg addres...</td>\n",
              "      <td>1776</td>\n",
              "    </tr>\n",
              "    <tr>\n",
              "      <th>16</th>\n",
              "      <td>Abraham Lincoln Did Lincoln beat John C. Breck...</td>\n",
              "      <td>yes</td>\n",
              "    </tr>\n",
              "    <tr>\n",
              "      <th>18</th>\n",
              "      <td>Abraham Lincoln Was Abraham Lincoln the first ...</td>\n",
              "      <td>No</td>\n",
              "    </tr>\n",
              "  </tbody>\n",
              "</table>\n",
              "</div>\n",
              "      <button class=\"colab-df-convert\" onclick=\"convertToInteractive('df-ffcbb6ec-4c09-473e-8190-b71c1fd28e3b')\"\n",
              "              title=\"Convert this dataframe to an interactive table.\"\n",
              "              style=\"display:none;\">\n",
              "        \n",
              "  <svg xmlns=\"http://www.w3.org/2000/svg\" height=\"24px\"viewBox=\"0 0 24 24\"\n",
              "       width=\"24px\">\n",
              "    <path d=\"M0 0h24v24H0V0z\" fill=\"none\"/>\n",
              "    <path d=\"M18.56 5.44l.94 2.06.94-2.06 2.06-.94-2.06-.94-.94-2.06-.94 2.06-2.06.94zm-11 1L8.5 8.5l.94-2.06 2.06-.94-2.06-.94L8.5 2.5l-.94 2.06-2.06.94zm10 10l.94 2.06.94-2.06 2.06-.94-2.06-.94-.94-2.06-.94 2.06-2.06.94z\"/><path d=\"M17.41 7.96l-1.37-1.37c-.4-.4-.92-.59-1.43-.59-.52 0-1.04.2-1.43.59L10.3 9.45l-7.72 7.72c-.78.78-.78 2.05 0 2.83L4 21.41c.39.39.9.59 1.41.59.51 0 1.02-.2 1.41-.59l7.78-7.78 2.81-2.81c.8-.78.8-2.07 0-2.86zM5.41 20L4 18.59l7.72-7.72 1.47 1.35L5.41 20z\"/>\n",
              "  </svg>\n",
              "      </button>\n",
              "      \n",
              "  <style>\n",
              "    .colab-df-container {\n",
              "      display:flex;\n",
              "      flex-wrap:wrap;\n",
              "      gap: 12px;\n",
              "    }\n",
              "\n",
              "    .colab-df-convert {\n",
              "      background-color: #E8F0FE;\n",
              "      border: none;\n",
              "      border-radius: 50%;\n",
              "      cursor: pointer;\n",
              "      display: none;\n",
              "      fill: #1967D2;\n",
              "      height: 32px;\n",
              "      padding: 0 0 0 0;\n",
              "      width: 32px;\n",
              "    }\n",
              "\n",
              "    .colab-df-convert:hover {\n",
              "      background-color: #E2EBFA;\n",
              "      box-shadow: 0px 1px 2px rgba(60, 64, 67, 0.3), 0px 1px 3px 1px rgba(60, 64, 67, 0.15);\n",
              "      fill: #174EA6;\n",
              "    }\n",
              "\n",
              "    [theme=dark] .colab-df-convert {\n",
              "      background-color: #3B4455;\n",
              "      fill: #D2E3FC;\n",
              "    }\n",
              "\n",
              "    [theme=dark] .colab-df-convert:hover {\n",
              "      background-color: #434B5C;\n",
              "      box-shadow: 0px 1px 3px 1px rgba(0, 0, 0, 0.15);\n",
              "      filter: drop-shadow(0px 1px 2px rgba(0, 0, 0, 0.3));\n",
              "      fill: #FFFFFF;\n",
              "    }\n",
              "  </style>\n",
              "\n",
              "      <script>\n",
              "        const buttonEl =\n",
              "          document.querySelector('#df-ffcbb6ec-4c09-473e-8190-b71c1fd28e3b button.colab-df-convert');\n",
              "        buttonEl.style.display =\n",
              "          google.colab.kernel.accessAllowed ? 'block' : 'none';\n",
              "\n",
              "        async function convertToInteractive(key) {\n",
              "          const element = document.querySelector('#df-ffcbb6ec-4c09-473e-8190-b71c1fd28e3b');\n",
              "          const dataTable =\n",
              "            await google.colab.kernel.invokeFunction('convertToInteractive',\n",
              "                                                     [key], {});\n",
              "          if (!dataTable) return;\n",
              "\n",
              "          const docLinkHtml = 'Like what you see? Visit the ' +\n",
              "            '<a target=\"_blank\" href=https://colab.research.google.com/notebooks/data_table.ipynb>data table notebook</a>'\n",
              "            + ' to learn more about interactive tables.';\n",
              "          element.innerHTML = '';\n",
              "          dataTable['output_type'] = 'display_data';\n",
              "          await google.colab.output.renderOutput(dataTable, element);\n",
              "          const docLink = document.createElement('div');\n",
              "          docLink.innerHTML = docLinkHtml;\n",
              "          element.appendChild(docLink);\n",
              "        }\n",
              "      </script>\n",
              "    </div>\n",
              "  </div>\n",
              "  "
            ]
          },
          "metadata": {},
          "execution_count": 8
        }
      ]
    },
    {
      "cell_type": "code",
      "source": [
        "all_data.shape"
      ],
      "metadata": {
        "colab": {
          "base_uri": "https://localhost:8080/"
        },
        "id": "nnkZXFJwGtQj",
        "outputId": "3225fcd7-0fb5-49f8-826d-b2b4677aa8fc"
      },
      "execution_count": 9,
      "outputs": [
        {
          "output_type": "execute_result",
          "data": {
            "text/plain": [
              "(2461, 2)"
            ]
          },
          "metadata": {},
          "execution_count": 9
        }
      ]
    },
    {
      "cell_type": "code",
      "source": [
        "all_data = all_data.dropna()\n",
        "all_data.shape"
      ],
      "metadata": {
        "colab": {
          "base_uri": "https://localhost:8080/"
        },
        "id": "ttj4obOhGzCP",
        "outputId": "9d6209a4-9b80-4fd6-b961-215bf4e39275"
      },
      "execution_count": 10,
      "outputs": [
        {
          "output_type": "execute_result",
          "data": {
            "text/plain": [
              "(2188, 2)"
            ]
          },
          "metadata": {},
          "execution_count": 10
        }
      ]
    },
    {
      "cell_type": "code",
      "source": [
        "import nltk\n",
        "nltk.download('stopwords')\n",
        "from nltk.corpus import stopwords\n",
        "STOPWORDS = set(stopwords.words('english'))\n",
        "from nltk.tag import pos_tag\n",
        "from nltk.tokenize import word_tokenize\n",
        "from nltk.stem import WordNetLemmatizer\n",
        "\n",
        "lemmatizer = WordNetLemmatizer()\n",
        "\n",
        "def my_tokenizer(doc):\n",
        "    words = word_tokenize(doc)\n",
        "    \n",
        "    pos_tags = pos_tag(words)\n",
        "    \n",
        "    non_stopwords = [w for w in pos_tags if not w[0].lower() in stopwords_list]\n",
        "    \n",
        "    non_punctuation = [w for w in non_stopwords if not w[0] in string.punctuation]\n",
        "    \n",
        "    lemmas = []\n",
        "    for w in non_punctuation:\n",
        "        if w[1].startswith('J'):\n",
        "            pos = wordnet.ADJ\n",
        "        elif w[1].startswith('V'):\n",
        "            pos = wordnet.VERB\n",
        "        elif w[1].startswith('N'):\n",
        "            pos = wordnet.NOUN\n",
        "        elif w[1].startswith('R'):\n",
        "            pos = wordnet.ADV\n",
        "        else:\n",
        "            pos = wordnet.NOUN\n",
        "        \n",
        "        lemmas.append(lemmatizer.lemmatize(w[0], pos))\n",
        "\n",
        "    return lemmas"
      ],
      "metadata": {
        "colab": {
          "base_uri": "https://localhost:8080/"
        },
        "id": "hvoRpyJaG2rD",
        "outputId": "1cfc0c45-a448-4101-ab42-7ed6819f32fd"
      },
      "execution_count": 18,
      "outputs": [
        {
          "output_type": "stream",
          "name": "stderr",
          "text": [
            "[nltk_data] Downloading package stopwords to /root/nltk_data...\n",
            "[nltk_data]   Package stopwords is already up-to-date!\n"
          ]
        }
      ]
    },
    {
      "cell_type": "code",
      "source": [
        "from sklearn.feature_extraction.text import TfidfVectorizer\n",
        "\n",
        "\n",
        "tfidf_vectorizer = TfidfVectorizer(max_df=0.8, max_features=20000,\n",
        "                                   min_df=1, use_idf=True, ngram_range=(1,1))\n",
        "# note: minimum of 2 occurrences, rather than 0.2 (20% of all documents)\n",
        "\n",
        "tfidf_matrix = tfidf_vectorizer.fit_transform(tuple(all_data['Question']))\n",
        "\n",
        "print(tfidf_matrix.shape)"
      ],
      "metadata": {
        "colab": {
          "base_uri": "https://localhost:8080/"
        },
        "id": "5oMoOyDrHDWt",
        "outputId": "e45cf60f-2fbb-4fc9-a387-0ced8a90c3d1"
      },
      "execution_count": 19,
      "outputs": [
        {
          "output_type": "stream",
          "name": "stdout",
          "text": [
            "(2188, 4081)\n"
          ]
        }
      ]
    },
    {
      "cell_type": "code",
      "source": [
        "from sklearn.metrics.pairwise import cosine_similarity\n",
        "def ask_question(question):\n",
        "    query_vect = tfidf_vectorizer.transform([question])\n",
        "    similarity = cosine_similarity(query_vect, tfidf_matrix)\n",
        "    max_similarity = np.argmax(similarity, axis=None)\n",
        "    \n",
        "    print('Your question:', question)\n",
        "    print('Closest question found:', all_data.iloc[max_similarity]['Question'])\n",
        "    print('Similarity: {:.2%}'.format(similarity[0, max_similarity]))\n",
        "    print('Answer:', all_data.iloc[max_similarity]['Answer'])"
      ],
      "metadata": {
        "id": "kXvxlGRkHNTr"
      },
      "execution_count": 23,
      "outputs": []
    },
    {
      "cell_type": "markdown",
      "source": [
        "After running the code,we need to ask question if we get  very similar to closest question found then the result will be **YES**. Or else result show **NO**"
      ],
      "metadata": {
        "id": "cnPL-Q-zJria"
      }
    },
    {
      "cell_type": "code",
      "source": [
        "ask_question('When Abraham Lincoln started his political career')"
      ],
      "metadata": {
        "colab": {
          "base_uri": "https://localhost:8080/"
        },
        "id": "T-c6DpMIHS_s",
        "outputId": "2b4be489-f22f-492b-8d86-e7f6c0a4677d"
      },
      "execution_count": 24,
      "outputs": [
        {
          "output_type": "stream",
          "name": "stdout",
          "text": [
            "Your question: When Abraham Lincoln started his political career\n",
            "Closest question found: Abraham Lincoln When did Lincoln begin his political career?\n",
            "Similarity: 87.84%\n",
            "Answer: 1832\n"
          ]
        }
      ]
    },
    {
      "cell_type": "code",
      "source": [
        "ask_question(' Was Abraham Lincoln the sixteenth President of the United States?')"
      ],
      "metadata": {
        "colab": {
          "base_uri": "https://localhost:8080/"
        },
        "id": "jNNK0qHBHYzV",
        "outputId": "aef1f375-b22a-4f12-9c11-15b5866c42e8"
      },
      "execution_count": 25,
      "outputs": [
        {
          "output_type": "stream",
          "name": "stdout",
          "text": [
            "Your question:  Was Abraham Lincoln the sixteenth President of the United States?\n",
            "Closest question found: Abraham Lincoln Was Abraham Lincoln the sixteenth President of the United States?\n",
            "Similarity: 94.43%\n",
            "Answer: yes\n"
          ]
        }
      ]
    },
    {
      "cell_type": "code",
      "source": [
        "ask_question('Can whales fly')"
      ],
      "metadata": {
        "colab": {
          "base_uri": "https://localhost:8080/"
        },
        "id": "x3VWQmwsHgb-",
        "outputId": "3f675d9b-fa5a-4052-b303-acba9b7929d6"
      },
      "execution_count": 26,
      "outputs": [
        {
          "output_type": "stream",
          "name": "stdout",
          "text": [
            "Your question: Can whales fly\n",
            "Closest question found: Otter Do sea otters have a layer of fat like whales?\n",
            "Similarity: 29.17%\n",
            "Answer: No\n"
          ]
        }
      ]
    },
    {
      "cell_type": "code",
      "source": [
        "ask_question('Who was the third president of the United States')"
      ],
      "metadata": {
        "colab": {
          "base_uri": "https://localhost:8080/"
        },
        "id": "9i5AnrYbHiK5",
        "outputId": "4a060085-6410-4669-bcdb-f8fdbd8fcfeb"
      },
      "execution_count": 27,
      "outputs": [
        {
          "output_type": "stream",
          "name": "stdout",
          "text": [
            "Your question: Who was the third president of the United States\n",
            "Closest question found: Calvin Coolidge Was Coolidge the thirteenth President of the United States?\n",
            "Similarity: 49.61%\n",
            "Answer: No\n"
          ]
        }
      ]
    },
    {
      "cell_type": "markdown",
      "source": [
        "# **Scope of project**"
      ],
      "metadata": {
        "id": "uCSIUD4KM76O"
      }
    },
    {
      "cell_type": "markdown",
      "source": [
        "A. The topic model should be able to identify/extract important topics.\n",
        "\n",
        "B. The topic model would be built on the corpus of Data Science documents.\n",
        "\n",
        "C. The topic model should yield the most relevant and stable topics measured through the\n",
        "perplexity score.\n",
        "\n",
        "D. Once the relevant documents have been retrieved, the extractive question answering\n",
        "model would generate the answer for the question.\n",
        "\n",
        "E. The entire dual-model pipeline would be deployed in AWS/GCP/Azure\n",
        "\n",
        "F. The dual-model pipeline must be accessible via a web application(Streamlit) for demo\n",
        "purpose."
      ],
      "metadata": {
        "id": "QX8pSIvPM_RC"
      }
    },
    {
      "cell_type": "markdown",
      "source": [
        "## **CONCLUSION**"
      ],
      "metadata": {
        "id": "qCkLf5KCQmBb"
      }
    },
    {
      "cell_type": "markdown",
      "source": [
        "In this we can get the results as The model is trained very quickly over 120 epochs using RMSprop and lr = 0.01. Other hyperparameters: Embedding size of 128, batch size of 256. Accuracy on unseen test data reaches over 97%.Hence We get accurate results of extracting an answer from a text given a question. The text would essentially be the group of documents that have the highest concentration of the topic closest to the asked question and also solve the above-mentioned challenge by applying deep learning algorithms to textual data.The solution to this problem can be obtained through Extractive Question Answering wherein we can extract an answer from a text given the question."
      ],
      "metadata": {
        "id": "LvbJ2bVQCL-6"
      }
    }
  ]
}