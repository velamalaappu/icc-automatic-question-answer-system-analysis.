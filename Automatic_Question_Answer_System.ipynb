{
  "nbformat": 4,
  "nbformat_minor": 0,
  "metadata": {
    "colab": {
      "name": "Automatic Question Answer System.ipynb",
      "provenance": [],
      "collapsed_sections": [],
      "mount_file_id": "19-NyVNLRseGevHiLMvtedv1BFAZlQDYy",
      "authorship_tag": "ABX9TyNWGci8nwvTv5BLjxYiO4l5",
      "include_colab_link": true
    },
    "kernelspec": {
      "name": "python3",
      "display_name": "Python 3"
    },
    "language_info": {
      "name": "python"
    }
  },
  "cells": [
    {
      "cell_type": "markdown",
      "metadata": {
        "id": "view-in-github",
        "colab_type": "text"
      },
      "source": [
        "<a href=\"https://colab.research.google.com/github/velamalaappu/icc-automatic-question-answer-system-analysis./blob/main/Automatic_Question_Answer_System.ipynb\" target=\"_parent\"><img src=\"https://colab.research.google.com/assets/colab-badge.svg\" alt=\"Open In Colab\"/></a>"
      ]
    },
    {
      "cell_type": "markdown",
      "source": [
        "# **Project Introduction**"
      ],
      "metadata": {
        "id": "qpktZwU0NfzE"
      }
    },
    {
      "cell_type": "markdown",
      "source": [
        "The Indian education landscape has been undergoing rapid changes for the past 10 years owing to\n",
        "the advancement of web-based learning services, specifically, eLearning platforms.\n",
        "\n",
        "Most online education institutes today treat all students in the same class/batch/cohort (referred to as\n",
        "“group” hereinafter) the same. Institutional uniformity works quite well for machines but humans are\n",
        "made up of different and often contradictory components!\n",
        "\n",
        "We believe that the model of allowing all students to learn at the same pace with the same level of\n",
        "interest is quite detrimental to the quality of education. This model is testing the capabilities of\n",
        "students by forcing them to work together in groups at the same pace, regardless of each individual's\n",
        "ability and the interests of the work.\n",
        "\n",
        "The reality could not be farther from the truth. The reason we see a wide variation in the group\n",
        "performance is owing to this thought process.\n",
        "\n",
        "In a system based on Competency Based Learning (referred to as “CBL” going forward), the group is\n",
        "accepted as a set of diverse individuals who may come with some common traits but also recognizes\n",
        "their different educational backgrounds, life & work experiences and learning styles.\n",
        "\n",
        "Competency-based learning is an approach to education that focuses on the student’s demonstration\n",
        "of desired learning outcomes as central to the learning process. A key characteristic of\n",
        "competency-based learning is its focus on mastery. In other learning models, students are exposed to\n",
        "content–whether skills or concepts–over time, and success is measured on a summative basis. In a\n",
        "competency-based learning system, students are not allowed to continue until they have\n",
        "demonstrated mastery of the identified competencies (i.e., the desired learning outcomes to be\n",
        "demonstrated).\n",
        "\n",
        "It is quite common to see students get stuck, fall behind, give up & in extreme cases – drop out of the\n",
        "program in the traditional model of education. A standard experience for a student in this model is\n",
        "“failing” and then having to repeat the class/subject/year till they are able to achieve a passing grade.\n",
        "This causes the student to lose interest in addition to social embarrassment. The result is a student\n",
        "who is now trying to “pass” by rote memorization and doing the bare minimum for the passing.\n",
        "\n",
        "While assessments based on rubrics are a cornerstone for the CBL system as well – they serve the\n",
        "purpose of reinforcing the concepts, and to show the student & the instructor(s) how well understood\n",
        "are each of the concepts and their application; rather than making just a judgment of passing and\n",
        "failing.\n",
        "\n",
        "In this light, to be able to cater to a large pool of students to enable seamless learning, we envision an\n",
        "automated doubt resolution system. In the era of advancing AI technology, most of the doubts can be\n",
        "resolved via deep learning techniques. The AI system in place can understand the context of the\n",
        "question and can provide relevant answers to the questions."
      ],
      "metadata": {
        "id": "Ap4eGWHiNogb"
      }
    },
    {
      "cell_type": "markdown",
      "source": [
        "# **Problem Statement**"
      ],
      "metadata": {
        "id": "0Se6425bO0xR"
      }
    },
    {
      "cell_type": "markdown",
      "source": [
        "We will solve the above-mentioned challenge by applying deep learning algorithms to textual data.\n",
        "The solution to this problem can be obtained through Extractive Question Answering wherein we can\n",
        "extract an answer from a text given the question."
      ],
      "metadata": {
        "id": "hAiIXpRHPEt2"
      }
    },
    {
      "cell_type": "markdown",
      "source": [
        "# Topic Modelling\n",
        "This is a theme extraction task on a collection of Data Science specific documents which can be done\n",
        "via Latent Dirichlet Allocation (LDA). The topic model should identify the important themes of a\n",
        "document and list down the top-N constituent words"
      ],
      "metadata": {
        "id": "_hj-dXx6POkK"
      }
    },
    {
      "cell_type": "markdown",
      "source": [
        "# Extractive Question Answering\n",
        "Extractive Question Answering is the task of extracting an answer from a text given a question. The\n",
        "text would essentially be the group of documents that have the highest concentration of the topic\n",
        "closest to the asked question.\n"
      ],
      "metadata": {
        "id": "f_nb7gcGPkqw"
      }
    },
    {
      "cell_type": "code",
      "execution_count": null,
      "metadata": {
        "id": "PzUdAxEnFyiW"
      },
      "outputs": [],
      "source": [
        "import pandas as pd\n",
        "import numpy as np\n",
        "import string\n",
        "from nltk.tokenize import word_tokenize\n",
        "from nltk.stem import WordNetLemmatizer\n",
        "from nltk.corpus import stopwords\n",
        "from nltk.corpus import wordnet\n",
        "from nltk import pos_tag\n",
        "from sklearn.feature_extraction.text import TfidfVectorizer\n",
        "from sklearn.metrics.pairwise import cosine_similarity"
      ]
    },
    {
      "cell_type": "markdown",
      "source": [
        "# **Data set**"
      ],
      "metadata": {
        "id": "VLvWCMqQJS2v"
      }
    },
    {
      "cell_type": "markdown",
      "source": [
        "There are three question files, one for each year of students: S08, S09, and S10, as well as 690,000 words worth of cleaned text from Wikipedia that was used to generate the questions.\n",
        "\n",
        "The \"questionanswerpairs.txt\" files contain both the questions and answers. The columns in this file are as follows:\n",
        "\n",
        "ArticleTitle is the name of the Wikipedia article from which questions and answers initially came.\n",
        "\n",
        "Question is the question.\n",
        "\n",
        "Answer is the answer.\n",
        "\n",
        "Difficulty From Questioner is the prescribed difficulty rating for the question as given to the question-writer.\n",
        "\n",
        "Difficulty From Answerer is a difficulty rating assigned by the individual who evaluated and answered the question, which may differ from the difficulty in field 4.\n",
        "\n",
        "ArticleFile is the name of the file with the relevant article\n",
        "Questions that were judged to be poor were discarded from this data set.\n",
        "\n",
        "There are frequently multiple lines with the same question, which appear if those questions were answered by multiple individuals."
      ],
      "metadata": {
        "id": "ZFq0vBwGIog-"
      }
    },
    {
      "cell_type": "code",
      "source": [
        "df1 = pd.read_csv('/content/drive/MyDrive/Colab Notebooks/automated question answer system/S08_question_answer_pairs.txt', sep='\\t')\n",
        "df2 = pd.read_csv('/content/drive/MyDrive/Colab Notebooks/automated question answer system/S09_question_answer_pairs.txt', sep='\\t')\n",
        "df3 = pd.read_csv('/content/drive/MyDrive/Colab Notebooks/automated question answer system/S10_question_answer_pairs.txt', sep='\\t', encoding = 'ISO-8859-1')"
      ],
      "metadata": {
        "id": "GHakoartGJ5q"
      },
      "execution_count": null,
      "outputs": []
    },
    {
      "cell_type": "markdown",
      "source": [
        "# **Preprocessing data**"
      ],
      "metadata": {
        "id": "Lr_wDGeRQnO_"
      }
    },
    {
      "cell_type": "code",
      "source": [
        "df1.head(20)"
      ],
      "metadata": {
        "colab": {
          "base_uri": "https://localhost:8080/",
          "height": 825
        },
        "id": "Mzup7UdIGRm5",
        "outputId": "902d0cba-dda2-4df0-d496-0404d7f33764"
      },
      "execution_count": null,
      "outputs": [
        {
          "output_type": "execute_result",
          "data": {
            "text/plain": [
              "       ArticleTitle                                           Question  \\\n",
              "0   Abraham_Lincoln  Was Abraham Lincoln the sixteenth President of...   \n",
              "1   Abraham_Lincoln  Was Abraham Lincoln the sixteenth President of...   \n",
              "2   Abraham_Lincoln  Did Lincoln sign the National Banking Act of 1...   \n",
              "3   Abraham_Lincoln  Did Lincoln sign the National Banking Act of 1...   \n",
              "4   Abraham_Lincoln                   Did his mother die of pneumonia?   \n",
              "5   Abraham_Lincoln                   Did his mother die of pneumonia?   \n",
              "6   Abraham_Lincoln      How many long was Lincoln's formal education?   \n",
              "7   Abraham_Lincoln      How many long was Lincoln's formal education?   \n",
              "8   Abraham_Lincoln       When did Lincoln begin his political career?   \n",
              "9   Abraham_Lincoln       When did Lincoln begin his political career?   \n",
              "10  Abraham_Lincoln   What did The Legal Tender Act of 1862 establish?   \n",
              "11  Abraham_Lincoln   What did The Legal Tender Act of 1862 establish?   \n",
              "12  Abraham_Lincoln                Who suggested Lincoln grow a beard?   \n",
              "13  Abraham_Lincoln                Who suggested Lincoln grow a beard?   \n",
              "14  Abraham_Lincoln  When did the Gettysburg address argue that Ame...   \n",
              "15  Abraham_Lincoln  When did the Gettysburg address argue that Ame...   \n",
              "16  Abraham_Lincoln  Did Lincoln beat John C. Breckinridge in the 1...   \n",
              "17  Abraham_Lincoln  Did Lincoln beat John C. Breckinridge in the 1...   \n",
              "18  Abraham_Lincoln  Was Abraham Lincoln the first President of the...   \n",
              "19  Abraham_Lincoln  Was Abraham Lincoln the first President of the...   \n",
              "\n",
              "                                               Answer  \\\n",
              "0                                                 yes   \n",
              "1                                                Yes.   \n",
              "2                                                 yes   \n",
              "3                                                Yes.   \n",
              "4                                                  no   \n",
              "5                                                 No.   \n",
              "6                                           18 months   \n",
              "7                                          18 months.   \n",
              "8                                                1832   \n",
              "9                                               1832.   \n",
              "10  the United States Note, the first paper curren...   \n",
              "11  The United States Note, the first paper curren...   \n",
              "12                           11-year-old Grace Bedell   \n",
              "13                                      Grace Bedell.   \n",
              "14                                               1776   \n",
              "15                                              1776.   \n",
              "16                                                yes   \n",
              "17                                               Yes.   \n",
              "18                                                 No   \n",
              "19                                                 No   \n",
              "\n",
              "   DifficultyFromQuestioner DifficultyFromAnswerer  ArticleFile  \n",
              "0                      easy                   easy  S08_set3_a4  \n",
              "1                      easy                   easy  S08_set3_a4  \n",
              "2                      easy                 medium  S08_set3_a4  \n",
              "3                      easy                   easy  S08_set3_a4  \n",
              "4                      easy                 medium  S08_set3_a4  \n",
              "5                      easy                   easy  S08_set3_a4  \n",
              "6                    medium                   easy  S08_set3_a4  \n",
              "7                    medium                 medium  S08_set3_a4  \n",
              "8                    medium                   easy  S08_set3_a4  \n",
              "9                    medium                 medium  S08_set3_a4  \n",
              "10                   medium                   easy  S08_set3_a4  \n",
              "11                   medium                 medium  S08_set3_a4  \n",
              "12                     hard                 medium  S08_set3_a4  \n",
              "13                     hard                 medium  S08_set3_a4  \n",
              "14                     hard                   hard  S08_set3_a4  \n",
              "15                     hard                   hard  S08_set3_a4  \n",
              "16                     hard                 medium  S08_set3_a4  \n",
              "17                     hard                   hard  S08_set3_a4  \n",
              "18                     easy                   easy  S08_set3_a4  \n",
              "19                     easy                 medium  S08_set3_a4  "
            ],
            "text/html": [
              "\n",
              "  <div id=\"df-b4f3789e-fe03-4ffa-b910-d8a2dc35c4a6\">\n",
              "    <div class=\"colab-df-container\">\n",
              "      <div>\n",
              "<style scoped>\n",
              "    .dataframe tbody tr th:only-of-type {\n",
              "        vertical-align: middle;\n",
              "    }\n",
              "\n",
              "    .dataframe tbody tr th {\n",
              "        vertical-align: top;\n",
              "    }\n",
              "\n",
              "    .dataframe thead th {\n",
              "        text-align: right;\n",
              "    }\n",
              "</style>\n",
              "<table border=\"1\" class=\"dataframe\">\n",
              "  <thead>\n",
              "    <tr style=\"text-align: right;\">\n",
              "      <th></th>\n",
              "      <th>ArticleTitle</th>\n",
              "      <th>Question</th>\n",
              "      <th>Answer</th>\n",
              "      <th>DifficultyFromQuestioner</th>\n",
              "      <th>DifficultyFromAnswerer</th>\n",
              "      <th>ArticleFile</th>\n",
              "    </tr>\n",
              "  </thead>\n",
              "  <tbody>\n",
              "    <tr>\n",
              "      <th>0</th>\n",
              "      <td>Abraham_Lincoln</td>\n",
              "      <td>Was Abraham Lincoln the sixteenth President of...</td>\n",
              "      <td>yes</td>\n",
              "      <td>easy</td>\n",
              "      <td>easy</td>\n",
              "      <td>S08_set3_a4</td>\n",
              "    </tr>\n",
              "    <tr>\n",
              "      <th>1</th>\n",
              "      <td>Abraham_Lincoln</td>\n",
              "      <td>Was Abraham Lincoln the sixteenth President of...</td>\n",
              "      <td>Yes.</td>\n",
              "      <td>easy</td>\n",
              "      <td>easy</td>\n",
              "      <td>S08_set3_a4</td>\n",
              "    </tr>\n",
              "    <tr>\n",
              "      <th>2</th>\n",
              "      <td>Abraham_Lincoln</td>\n",
              "      <td>Did Lincoln sign the National Banking Act of 1...</td>\n",
              "      <td>yes</td>\n",
              "      <td>easy</td>\n",
              "      <td>medium</td>\n",
              "      <td>S08_set3_a4</td>\n",
              "    </tr>\n",
              "    <tr>\n",
              "      <th>3</th>\n",
              "      <td>Abraham_Lincoln</td>\n",
              "      <td>Did Lincoln sign the National Banking Act of 1...</td>\n",
              "      <td>Yes.</td>\n",
              "      <td>easy</td>\n",
              "      <td>easy</td>\n",
              "      <td>S08_set3_a4</td>\n",
              "    </tr>\n",
              "    <tr>\n",
              "      <th>4</th>\n",
              "      <td>Abraham_Lincoln</td>\n",
              "      <td>Did his mother die of pneumonia?</td>\n",
              "      <td>no</td>\n",
              "      <td>easy</td>\n",
              "      <td>medium</td>\n",
              "      <td>S08_set3_a4</td>\n",
              "    </tr>\n",
              "    <tr>\n",
              "      <th>5</th>\n",
              "      <td>Abraham_Lincoln</td>\n",
              "      <td>Did his mother die of pneumonia?</td>\n",
              "      <td>No.</td>\n",
              "      <td>easy</td>\n",
              "      <td>easy</td>\n",
              "      <td>S08_set3_a4</td>\n",
              "    </tr>\n",
              "    <tr>\n",
              "      <th>6</th>\n",
              "      <td>Abraham_Lincoln</td>\n",
              "      <td>How many long was Lincoln's formal education?</td>\n",
              "      <td>18 months</td>\n",
              "      <td>medium</td>\n",
              "      <td>easy</td>\n",
              "      <td>S08_set3_a4</td>\n",
              "    </tr>\n",
              "    <tr>\n",
              "      <th>7</th>\n",
              "      <td>Abraham_Lincoln</td>\n",
              "      <td>How many long was Lincoln's formal education?</td>\n",
              "      <td>18 months.</td>\n",
              "      <td>medium</td>\n",
              "      <td>medium</td>\n",
              "      <td>S08_set3_a4</td>\n",
              "    </tr>\n",
              "    <tr>\n",
              "      <th>8</th>\n",
              "      <td>Abraham_Lincoln</td>\n",
              "      <td>When did Lincoln begin his political career?</td>\n",
              "      <td>1832</td>\n",
              "      <td>medium</td>\n",
              "      <td>easy</td>\n",
              "      <td>S08_set3_a4</td>\n",
              "    </tr>\n",
              "    <tr>\n",
              "      <th>9</th>\n",
              "      <td>Abraham_Lincoln</td>\n",
              "      <td>When did Lincoln begin his political career?</td>\n",
              "      <td>1832.</td>\n",
              "      <td>medium</td>\n",
              "      <td>medium</td>\n",
              "      <td>S08_set3_a4</td>\n",
              "    </tr>\n",
              "    <tr>\n",
              "      <th>10</th>\n",
              "      <td>Abraham_Lincoln</td>\n",
              "      <td>What did The Legal Tender Act of 1862 establish?</td>\n",
              "      <td>the United States Note, the first paper curren...</td>\n",
              "      <td>medium</td>\n",
              "      <td>easy</td>\n",
              "      <td>S08_set3_a4</td>\n",
              "    </tr>\n",
              "    <tr>\n",
              "      <th>11</th>\n",
              "      <td>Abraham_Lincoln</td>\n",
              "      <td>What did The Legal Tender Act of 1862 establish?</td>\n",
              "      <td>The United States Note, the first paper curren...</td>\n",
              "      <td>medium</td>\n",
              "      <td>medium</td>\n",
              "      <td>S08_set3_a4</td>\n",
              "    </tr>\n",
              "    <tr>\n",
              "      <th>12</th>\n",
              "      <td>Abraham_Lincoln</td>\n",
              "      <td>Who suggested Lincoln grow a beard?</td>\n",
              "      <td>11-year-old Grace Bedell</td>\n",
              "      <td>hard</td>\n",
              "      <td>medium</td>\n",
              "      <td>S08_set3_a4</td>\n",
              "    </tr>\n",
              "    <tr>\n",
              "      <th>13</th>\n",
              "      <td>Abraham_Lincoln</td>\n",
              "      <td>Who suggested Lincoln grow a beard?</td>\n",
              "      <td>Grace Bedell.</td>\n",
              "      <td>hard</td>\n",
              "      <td>medium</td>\n",
              "      <td>S08_set3_a4</td>\n",
              "    </tr>\n",
              "    <tr>\n",
              "      <th>14</th>\n",
              "      <td>Abraham_Lincoln</td>\n",
              "      <td>When did the Gettysburg address argue that Ame...</td>\n",
              "      <td>1776</td>\n",
              "      <td>hard</td>\n",
              "      <td>hard</td>\n",
              "      <td>S08_set3_a4</td>\n",
              "    </tr>\n",
              "    <tr>\n",
              "      <th>15</th>\n",
              "      <td>Abraham_Lincoln</td>\n",
              "      <td>When did the Gettysburg address argue that Ame...</td>\n",
              "      <td>1776.</td>\n",
              "      <td>hard</td>\n",
              "      <td>hard</td>\n",
              "      <td>S08_set3_a4</td>\n",
              "    </tr>\n",
              "    <tr>\n",
              "      <th>16</th>\n",
              "      <td>Abraham_Lincoln</td>\n",
              "      <td>Did Lincoln beat John C. Breckinridge in the 1...</td>\n",
              "      <td>yes</td>\n",
              "      <td>hard</td>\n",
              "      <td>medium</td>\n",
              "      <td>S08_set3_a4</td>\n",
              "    </tr>\n",
              "    <tr>\n",
              "      <th>17</th>\n",
              "      <td>Abraham_Lincoln</td>\n",
              "      <td>Did Lincoln beat John C. Breckinridge in the 1...</td>\n",
              "      <td>Yes.</td>\n",
              "      <td>hard</td>\n",
              "      <td>hard</td>\n",
              "      <td>S08_set3_a4</td>\n",
              "    </tr>\n",
              "    <tr>\n",
              "      <th>18</th>\n",
              "      <td>Abraham_Lincoln</td>\n",
              "      <td>Was Abraham Lincoln the first President of the...</td>\n",
              "      <td>No</td>\n",
              "      <td>easy</td>\n",
              "      <td>easy</td>\n",
              "      <td>S08_set3_a4</td>\n",
              "    </tr>\n",
              "    <tr>\n",
              "      <th>19</th>\n",
              "      <td>Abraham_Lincoln</td>\n",
              "      <td>Was Abraham Lincoln the first President of the...</td>\n",
              "      <td>No</td>\n",
              "      <td>easy</td>\n",
              "      <td>medium</td>\n",
              "      <td>S08_set3_a4</td>\n",
              "    </tr>\n",
              "  </tbody>\n",
              "</table>\n",
              "</div>\n",
              "      <button class=\"colab-df-convert\" onclick=\"convertToInteractive('df-b4f3789e-fe03-4ffa-b910-d8a2dc35c4a6')\"\n",
              "              title=\"Convert this dataframe to an interactive table.\"\n",
              "              style=\"display:none;\">\n",
              "        \n",
              "  <svg xmlns=\"http://www.w3.org/2000/svg\" height=\"24px\"viewBox=\"0 0 24 24\"\n",
              "       width=\"24px\">\n",
              "    <path d=\"M0 0h24v24H0V0z\" fill=\"none\"/>\n",
              "    <path d=\"M18.56 5.44l.94 2.06.94-2.06 2.06-.94-2.06-.94-.94-2.06-.94 2.06-2.06.94zm-11 1L8.5 8.5l.94-2.06 2.06-.94-2.06-.94L8.5 2.5l-.94 2.06-2.06.94zm10 10l.94 2.06.94-2.06 2.06-.94-2.06-.94-.94-2.06-.94 2.06-2.06.94z\"/><path d=\"M17.41 7.96l-1.37-1.37c-.4-.4-.92-.59-1.43-.59-.52 0-1.04.2-1.43.59L10.3 9.45l-7.72 7.72c-.78.78-.78 2.05 0 2.83L4 21.41c.39.39.9.59 1.41.59.51 0 1.02-.2 1.41-.59l7.78-7.78 2.81-2.81c.8-.78.8-2.07 0-2.86zM5.41 20L4 18.59l7.72-7.72 1.47 1.35L5.41 20z\"/>\n",
              "  </svg>\n",
              "      </button>\n",
              "      \n",
              "  <style>\n",
              "    .colab-df-container {\n",
              "      display:flex;\n",
              "      flex-wrap:wrap;\n",
              "      gap: 12px;\n",
              "    }\n",
              "\n",
              "    .colab-df-convert {\n",
              "      background-color: #E8F0FE;\n",
              "      border: none;\n",
              "      border-radius: 50%;\n",
              "      cursor: pointer;\n",
              "      display: none;\n",
              "      fill: #1967D2;\n",
              "      height: 32px;\n",
              "      padding: 0 0 0 0;\n",
              "      width: 32px;\n",
              "    }\n",
              "\n",
              "    .colab-df-convert:hover {\n",
              "      background-color: #E2EBFA;\n",
              "      box-shadow: 0px 1px 2px rgba(60, 64, 67, 0.3), 0px 1px 3px 1px rgba(60, 64, 67, 0.15);\n",
              "      fill: #174EA6;\n",
              "    }\n",
              "\n",
              "    [theme=dark] .colab-df-convert {\n",
              "      background-color: #3B4455;\n",
              "      fill: #D2E3FC;\n",
              "    }\n",
              "\n",
              "    [theme=dark] .colab-df-convert:hover {\n",
              "      background-color: #434B5C;\n",
              "      box-shadow: 0px 1px 3px 1px rgba(0, 0, 0, 0.15);\n",
              "      filter: drop-shadow(0px 1px 2px rgba(0, 0, 0, 0.3));\n",
              "      fill: #FFFFFF;\n",
              "    }\n",
              "  </style>\n",
              "\n",
              "      <script>\n",
              "        const buttonEl =\n",
              "          document.querySelector('#df-b4f3789e-fe03-4ffa-b910-d8a2dc35c4a6 button.colab-df-convert');\n",
              "        buttonEl.style.display =\n",
              "          google.colab.kernel.accessAllowed ? 'block' : 'none';\n",
              "\n",
              "        async function convertToInteractive(key) {\n",
              "          const element = document.querySelector('#df-b4f3789e-fe03-4ffa-b910-d8a2dc35c4a6');\n",
              "          const dataTable =\n",
              "            await google.colab.kernel.invokeFunction('convertToInteractive',\n",
              "                                                     [key], {});\n",
              "          if (!dataTable) return;\n",
              "\n",
              "          const docLinkHtml = 'Like what you see? Visit the ' +\n",
              "            '<a target=\"_blank\" href=https://colab.research.google.com/notebooks/data_table.ipynb>data table notebook</a>'\n",
              "            + ' to learn more about interactive tables.';\n",
              "          element.innerHTML = '';\n",
              "          dataTable['output_type'] = 'display_data';\n",
              "          await google.colab.output.renderOutput(dataTable, element);\n",
              "          const docLink = document.createElement('div');\n",
              "          docLink.innerHTML = docLinkHtml;\n",
              "          element.appendChild(docLink);\n",
              "        }\n",
              "      </script>\n",
              "    </div>\n",
              "  </div>\n",
              "  "
            ]
          },
          "metadata": {},
          "execution_count": 3
        }
      ]
    },
    {
      "cell_type": "code",
      "source": [
        "all_data = df1.append([df2, df3])\n",
        "all_data.info()"
      ],
      "metadata": {
        "colab": {
          "base_uri": "https://localhost:8080/"
        },
        "id": "cmqprmmHGVg1",
        "outputId": "7584245d-d273-4a13-804c-4459d32edd51"
      },
      "execution_count": null,
      "outputs": [
        {
          "output_type": "stream",
          "name": "stdout",
          "text": [
            "<class 'pandas.core.frame.DataFrame'>\n",
            "Int64Index: 3998 entries, 0 to 1457\n",
            "Data columns (total 6 columns):\n",
            " #   Column                    Non-Null Count  Dtype \n",
            "---  ------                    --------------  ----- \n",
            " 0   ArticleTitle              3998 non-null   object\n",
            " 1   Question                  3961 non-null   object\n",
            " 2   Answer                    3422 non-null   object\n",
            " 3   DifficultyFromQuestioner  3043 non-null   object\n",
            " 4   DifficultyFromAnswerer    3418 non-null   object\n",
            " 5   ArticleFile               3996 non-null   object\n",
            "dtypes: object(6)\n",
            "memory usage: 218.6+ KB\n"
          ]
        }
      ]
    },
    {
      "cell_type": "code",
      "source": [
        "all_data['Question'] = all_data['ArticleTitle'].str.replace('_', ' ') + ' ' + all_data['Question']\n",
        "all_data = all_data[['Question', 'Answer']]\n",
        "all_data.shape"
      ],
      "metadata": {
        "colab": {
          "base_uri": "https://localhost:8080/"
        },
        "id": "dEMRHaNEGb-K",
        "outputId": "aeafaa4b-549b-42bd-84d3-6a0ed56f20bd"
      },
      "execution_count": null,
      "outputs": [
        {
          "output_type": "execute_result",
          "data": {
            "text/plain": [
              "(3998, 2)"
            ]
          },
          "metadata": {},
          "execution_count": 5
        }
      ]
    },
    {
      "cell_type": "code",
      "source": [
        "all_data.head(10)"
      ],
      "metadata": {
        "colab": {
          "base_uri": "https://localhost:8080/",
          "height": 363
        },
        "id": "ke6J8c2bGhpF",
        "outputId": "f6a8a5ed-eaac-4774-9210-bd9d142d090b"
      },
      "execution_count": null,
      "outputs": [
        {
          "output_type": "execute_result",
          "data": {
            "text/plain": [
              "                                            Question      Answer\n",
              "0  Abraham Lincoln Was Abraham Lincoln the sixtee...         yes\n",
              "1  Abraham Lincoln Was Abraham Lincoln the sixtee...        Yes.\n",
              "2  Abraham Lincoln Did Lincoln sign the National ...         yes\n",
              "3  Abraham Lincoln Did Lincoln sign the National ...        Yes.\n",
              "4   Abraham Lincoln Did his mother die of pneumonia?          no\n",
              "5   Abraham Lincoln Did his mother die of pneumonia?         No.\n",
              "6  Abraham Lincoln How many long was Lincoln's fo...   18 months\n",
              "7  Abraham Lincoln How many long was Lincoln's fo...  18 months.\n",
              "8  Abraham Lincoln When did Lincoln begin his pol...        1832\n",
              "9  Abraham Lincoln When did Lincoln begin his pol...       1832."
            ],
            "text/html": [
              "\n",
              "  <div id=\"df-baac642e-506f-47c8-98f3-21bc964928c4\">\n",
              "    <div class=\"colab-df-container\">\n",
              "      <div>\n",
              "<style scoped>\n",
              "    .dataframe tbody tr th:only-of-type {\n",
              "        vertical-align: middle;\n",
              "    }\n",
              "\n",
              "    .dataframe tbody tr th {\n",
              "        vertical-align: top;\n",
              "    }\n",
              "\n",
              "    .dataframe thead th {\n",
              "        text-align: right;\n",
              "    }\n",
              "</style>\n",
              "<table border=\"1\" class=\"dataframe\">\n",
              "  <thead>\n",
              "    <tr style=\"text-align: right;\">\n",
              "      <th></th>\n",
              "      <th>Question</th>\n",
              "      <th>Answer</th>\n",
              "    </tr>\n",
              "  </thead>\n",
              "  <tbody>\n",
              "    <tr>\n",
              "      <th>0</th>\n",
              "      <td>Abraham Lincoln Was Abraham Lincoln the sixtee...</td>\n",
              "      <td>yes</td>\n",
              "    </tr>\n",
              "    <tr>\n",
              "      <th>1</th>\n",
              "      <td>Abraham Lincoln Was Abraham Lincoln the sixtee...</td>\n",
              "      <td>Yes.</td>\n",
              "    </tr>\n",
              "    <tr>\n",
              "      <th>2</th>\n",
              "      <td>Abraham Lincoln Did Lincoln sign the National ...</td>\n",
              "      <td>yes</td>\n",
              "    </tr>\n",
              "    <tr>\n",
              "      <th>3</th>\n",
              "      <td>Abraham Lincoln Did Lincoln sign the National ...</td>\n",
              "      <td>Yes.</td>\n",
              "    </tr>\n",
              "    <tr>\n",
              "      <th>4</th>\n",
              "      <td>Abraham Lincoln Did his mother die of pneumonia?</td>\n",
              "      <td>no</td>\n",
              "    </tr>\n",
              "    <tr>\n",
              "      <th>5</th>\n",
              "      <td>Abraham Lincoln Did his mother die of pneumonia?</td>\n",
              "      <td>No.</td>\n",
              "    </tr>\n",
              "    <tr>\n",
              "      <th>6</th>\n",
              "      <td>Abraham Lincoln How many long was Lincoln's fo...</td>\n",
              "      <td>18 months</td>\n",
              "    </tr>\n",
              "    <tr>\n",
              "      <th>7</th>\n",
              "      <td>Abraham Lincoln How many long was Lincoln's fo...</td>\n",
              "      <td>18 months.</td>\n",
              "    </tr>\n",
              "    <tr>\n",
              "      <th>8</th>\n",
              "      <td>Abraham Lincoln When did Lincoln begin his pol...</td>\n",
              "      <td>1832</td>\n",
              "    </tr>\n",
              "    <tr>\n",
              "      <th>9</th>\n",
              "      <td>Abraham Lincoln When did Lincoln begin his pol...</td>\n",
              "      <td>1832.</td>\n",
              "    </tr>\n",
              "  </tbody>\n",
              "</table>\n",
              "</div>\n",
              "      <button class=\"colab-df-convert\" onclick=\"convertToInteractive('df-baac642e-506f-47c8-98f3-21bc964928c4')\"\n",
              "              title=\"Convert this dataframe to an interactive table.\"\n",
              "              style=\"display:none;\">\n",
              "        \n",
              "  <svg xmlns=\"http://www.w3.org/2000/svg\" height=\"24px\"viewBox=\"0 0 24 24\"\n",
              "       width=\"24px\">\n",
              "    <path d=\"M0 0h24v24H0V0z\" fill=\"none\"/>\n",
              "    <path d=\"M18.56 5.44l.94 2.06.94-2.06 2.06-.94-2.06-.94-.94-2.06-.94 2.06-2.06.94zm-11 1L8.5 8.5l.94-2.06 2.06-.94-2.06-.94L8.5 2.5l-.94 2.06-2.06.94zm10 10l.94 2.06.94-2.06 2.06-.94-2.06-.94-.94-2.06-.94 2.06-2.06.94z\"/><path d=\"M17.41 7.96l-1.37-1.37c-.4-.4-.92-.59-1.43-.59-.52 0-1.04.2-1.43.59L10.3 9.45l-7.72 7.72c-.78.78-.78 2.05 0 2.83L4 21.41c.39.39.9.59 1.41.59.51 0 1.02-.2 1.41-.59l7.78-7.78 2.81-2.81c.8-.78.8-2.07 0-2.86zM5.41 20L4 18.59l7.72-7.72 1.47 1.35L5.41 20z\"/>\n",
              "  </svg>\n",
              "      </button>\n",
              "      \n",
              "  <style>\n",
              "    .colab-df-container {\n",
              "      display:flex;\n",
              "      flex-wrap:wrap;\n",
              "      gap: 12px;\n",
              "    }\n",
              "\n",
              "    .colab-df-convert {\n",
              "      background-color: #E8F0FE;\n",
              "      border: none;\n",
              "      border-radius: 50%;\n",
              "      cursor: pointer;\n",
              "      display: none;\n",
              "      fill: #1967D2;\n",
              "      height: 32px;\n",
              "      padding: 0 0 0 0;\n",
              "      width: 32px;\n",
              "    }\n",
              "\n",
              "    .colab-df-convert:hover {\n",
              "      background-color: #E2EBFA;\n",
              "      box-shadow: 0px 1px 2px rgba(60, 64, 67, 0.3), 0px 1px 3px 1px rgba(60, 64, 67, 0.15);\n",
              "      fill: #174EA6;\n",
              "    }\n",
              "\n",
              "    [theme=dark] .colab-df-convert {\n",
              "      background-color: #3B4455;\n",
              "      fill: #D2E3FC;\n",
              "    }\n",
              "\n",
              "    [theme=dark] .colab-df-convert:hover {\n",
              "      background-color: #434B5C;\n",
              "      box-shadow: 0px 1px 3px 1px rgba(0, 0, 0, 0.15);\n",
              "      filter: drop-shadow(0px 1px 2px rgba(0, 0, 0, 0.3));\n",
              "      fill: #FFFFFF;\n",
              "    }\n",
              "  </style>\n",
              "\n",
              "      <script>\n",
              "        const buttonEl =\n",
              "          document.querySelector('#df-baac642e-506f-47c8-98f3-21bc964928c4 button.colab-df-convert');\n",
              "        buttonEl.style.display =\n",
              "          google.colab.kernel.accessAllowed ? 'block' : 'none';\n",
              "\n",
              "        async function convertToInteractive(key) {\n",
              "          const element = document.querySelector('#df-baac642e-506f-47c8-98f3-21bc964928c4');\n",
              "          const dataTable =\n",
              "            await google.colab.kernel.invokeFunction('convertToInteractive',\n",
              "                                                     [key], {});\n",
              "          if (!dataTable) return;\n",
              "\n",
              "          const docLinkHtml = 'Like what you see? Visit the ' +\n",
              "            '<a target=\"_blank\" href=https://colab.research.google.com/notebooks/data_table.ipynb>data table notebook</a>'\n",
              "            + ' to learn more about interactive tables.';\n",
              "          element.innerHTML = '';\n",
              "          dataTable['output_type'] = 'display_data';\n",
              "          await google.colab.output.renderOutput(dataTable, element);\n",
              "          const docLink = document.createElement('div');\n",
              "          docLink.innerHTML = docLinkHtml;\n",
              "          element.appendChild(docLink);\n",
              "        }\n",
              "      </script>\n",
              "    </div>\n",
              "  </div>\n",
              "  "
            ]
          },
          "metadata": {},
          "execution_count": 6
        }
      ]
    },
    {
      "cell_type": "code",
      "source": [
        "all_data = all_data.drop_duplicates(subset='Question')\n",
        "all_data.head(10)"
      ],
      "metadata": {
        "colab": {
          "base_uri": "https://localhost:8080/",
          "height": 363
        },
        "id": "Bh-6PBOEGnA_",
        "outputId": "e1246574-74ac-4e97-ce78-7376347b7dda"
      },
      "execution_count": null,
      "outputs": [
        {
          "output_type": "execute_result",
          "data": {
            "text/plain": [
              "                                             Question  \\\n",
              "0   Abraham Lincoln Was Abraham Lincoln the sixtee...   \n",
              "2   Abraham Lincoln Did Lincoln sign the National ...   \n",
              "4    Abraham Lincoln Did his mother die of pneumonia?   \n",
              "6   Abraham Lincoln How many long was Lincoln's fo...   \n",
              "8   Abraham Lincoln When did Lincoln begin his pol...   \n",
              "10  Abraham Lincoln What did The Legal Tender Act ...   \n",
              "12  Abraham Lincoln Who suggested Lincoln grow a b...   \n",
              "14  Abraham Lincoln When did the Gettysburg addres...   \n",
              "16  Abraham Lincoln Did Lincoln beat John C. Breck...   \n",
              "18  Abraham Lincoln Was Abraham Lincoln the first ...   \n",
              "\n",
              "                                               Answer  \n",
              "0                                                 yes  \n",
              "2                                                 yes  \n",
              "4                                                  no  \n",
              "6                                           18 months  \n",
              "8                                                1832  \n",
              "10  the United States Note, the first paper curren...  \n",
              "12                           11-year-old Grace Bedell  \n",
              "14                                               1776  \n",
              "16                                                yes  \n",
              "18                                                 No  "
            ],
            "text/html": [
              "\n",
              "  <div id=\"df-1d0068a0-8134-4bde-87b9-8c0a01eee926\">\n",
              "    <div class=\"colab-df-container\">\n",
              "      <div>\n",
              "<style scoped>\n",
              "    .dataframe tbody tr th:only-of-type {\n",
              "        vertical-align: middle;\n",
              "    }\n",
              "\n",
              "    .dataframe tbody tr th {\n",
              "        vertical-align: top;\n",
              "    }\n",
              "\n",
              "    .dataframe thead th {\n",
              "        text-align: right;\n",
              "    }\n",
              "</style>\n",
              "<table border=\"1\" class=\"dataframe\">\n",
              "  <thead>\n",
              "    <tr style=\"text-align: right;\">\n",
              "      <th></th>\n",
              "      <th>Question</th>\n",
              "      <th>Answer</th>\n",
              "    </tr>\n",
              "  </thead>\n",
              "  <tbody>\n",
              "    <tr>\n",
              "      <th>0</th>\n",
              "      <td>Abraham Lincoln Was Abraham Lincoln the sixtee...</td>\n",
              "      <td>yes</td>\n",
              "    </tr>\n",
              "    <tr>\n",
              "      <th>2</th>\n",
              "      <td>Abraham Lincoln Did Lincoln sign the National ...</td>\n",
              "      <td>yes</td>\n",
              "    </tr>\n",
              "    <tr>\n",
              "      <th>4</th>\n",
              "      <td>Abraham Lincoln Did his mother die of pneumonia?</td>\n",
              "      <td>no</td>\n",
              "    </tr>\n",
              "    <tr>\n",
              "      <th>6</th>\n",
              "      <td>Abraham Lincoln How many long was Lincoln's fo...</td>\n",
              "      <td>18 months</td>\n",
              "    </tr>\n",
              "    <tr>\n",
              "      <th>8</th>\n",
              "      <td>Abraham Lincoln When did Lincoln begin his pol...</td>\n",
              "      <td>1832</td>\n",
              "    </tr>\n",
              "    <tr>\n",
              "      <th>10</th>\n",
              "      <td>Abraham Lincoln What did The Legal Tender Act ...</td>\n",
              "      <td>the United States Note, the first paper curren...</td>\n",
              "    </tr>\n",
              "    <tr>\n",
              "      <th>12</th>\n",
              "      <td>Abraham Lincoln Who suggested Lincoln grow a b...</td>\n",
              "      <td>11-year-old Grace Bedell</td>\n",
              "    </tr>\n",
              "    <tr>\n",
              "      <th>14</th>\n",
              "      <td>Abraham Lincoln When did the Gettysburg addres...</td>\n",
              "      <td>1776</td>\n",
              "    </tr>\n",
              "    <tr>\n",
              "      <th>16</th>\n",
              "      <td>Abraham Lincoln Did Lincoln beat John C. Breck...</td>\n",
              "      <td>yes</td>\n",
              "    </tr>\n",
              "    <tr>\n",
              "      <th>18</th>\n",
              "      <td>Abraham Lincoln Was Abraham Lincoln the first ...</td>\n",
              "      <td>No</td>\n",
              "    </tr>\n",
              "  </tbody>\n",
              "</table>\n",
              "</div>\n",
              "      <button class=\"colab-df-convert\" onclick=\"convertToInteractive('df-1d0068a0-8134-4bde-87b9-8c0a01eee926')\"\n",
              "              title=\"Convert this dataframe to an interactive table.\"\n",
              "              style=\"display:none;\">\n",
              "        \n",
              "  <svg xmlns=\"http://www.w3.org/2000/svg\" height=\"24px\"viewBox=\"0 0 24 24\"\n",
              "       width=\"24px\">\n",
              "    <path d=\"M0 0h24v24H0V0z\" fill=\"none\"/>\n",
              "    <path d=\"M18.56 5.44l.94 2.06.94-2.06 2.06-.94-2.06-.94-.94-2.06-.94 2.06-2.06.94zm-11 1L8.5 8.5l.94-2.06 2.06-.94-2.06-.94L8.5 2.5l-.94 2.06-2.06.94zm10 10l.94 2.06.94-2.06 2.06-.94-2.06-.94-.94-2.06-.94 2.06-2.06.94z\"/><path d=\"M17.41 7.96l-1.37-1.37c-.4-.4-.92-.59-1.43-.59-.52 0-1.04.2-1.43.59L10.3 9.45l-7.72 7.72c-.78.78-.78 2.05 0 2.83L4 21.41c.39.39.9.59 1.41.59.51 0 1.02-.2 1.41-.59l7.78-7.78 2.81-2.81c.8-.78.8-2.07 0-2.86zM5.41 20L4 18.59l7.72-7.72 1.47 1.35L5.41 20z\"/>\n",
              "  </svg>\n",
              "      </button>\n",
              "      \n",
              "  <style>\n",
              "    .colab-df-container {\n",
              "      display:flex;\n",
              "      flex-wrap:wrap;\n",
              "      gap: 12px;\n",
              "    }\n",
              "\n",
              "    .colab-df-convert {\n",
              "      background-color: #E8F0FE;\n",
              "      border: none;\n",
              "      border-radius: 50%;\n",
              "      cursor: pointer;\n",
              "      display: none;\n",
              "      fill: #1967D2;\n",
              "      height: 32px;\n",
              "      padding: 0 0 0 0;\n",
              "      width: 32px;\n",
              "    }\n",
              "\n",
              "    .colab-df-convert:hover {\n",
              "      background-color: #E2EBFA;\n",
              "      box-shadow: 0px 1px 2px rgba(60, 64, 67, 0.3), 0px 1px 3px 1px rgba(60, 64, 67, 0.15);\n",
              "      fill: #174EA6;\n",
              "    }\n",
              "\n",
              "    [theme=dark] .colab-df-convert {\n",
              "      background-color: #3B4455;\n",
              "      fill: #D2E3FC;\n",
              "    }\n",
              "\n",
              "    [theme=dark] .colab-df-convert:hover {\n",
              "      background-color: #434B5C;\n",
              "      box-shadow: 0px 1px 3px 1px rgba(0, 0, 0, 0.15);\n",
              "      filter: drop-shadow(0px 1px 2px rgba(0, 0, 0, 0.3));\n",
              "      fill: #FFFFFF;\n",
              "    }\n",
              "  </style>\n",
              "\n",
              "      <script>\n",
              "        const buttonEl =\n",
              "          document.querySelector('#df-1d0068a0-8134-4bde-87b9-8c0a01eee926 button.colab-df-convert');\n",
              "        buttonEl.style.display =\n",
              "          google.colab.kernel.accessAllowed ? 'block' : 'none';\n",
              "\n",
              "        async function convertToInteractive(key) {\n",
              "          const element = document.querySelector('#df-1d0068a0-8134-4bde-87b9-8c0a01eee926');\n",
              "          const dataTable =\n",
              "            await google.colab.kernel.invokeFunction('convertToInteractive',\n",
              "                                                     [key], {});\n",
              "          if (!dataTable) return;\n",
              "\n",
              "          const docLinkHtml = 'Like what you see? Visit the ' +\n",
              "            '<a target=\"_blank\" href=https://colab.research.google.com/notebooks/data_table.ipynb>data table notebook</a>'\n",
              "            + ' to learn more about interactive tables.';\n",
              "          element.innerHTML = '';\n",
              "          dataTable['output_type'] = 'display_data';\n",
              "          await google.colab.output.renderOutput(dataTable, element);\n",
              "          const docLink = document.createElement('div');\n",
              "          docLink.innerHTML = docLinkHtml;\n",
              "          element.appendChild(docLink);\n",
              "        }\n",
              "      </script>\n",
              "    </div>\n",
              "  </div>\n",
              "  "
            ]
          },
          "metadata": {},
          "execution_count": 7
        }
      ]
    },
    {
      "cell_type": "code",
      "source": [
        "all_data.shape"
      ],
      "metadata": {
        "colab": {
          "base_uri": "https://localhost:8080/"
        },
        "id": "nnkZXFJwGtQj",
        "outputId": "60bb1f7c-cc50-41b0-86fe-ac0a93314c8f"
      },
      "execution_count": null,
      "outputs": [
        {
          "output_type": "execute_result",
          "data": {
            "text/plain": [
              "(2461, 2)"
            ]
          },
          "metadata": {},
          "execution_count": 8
        }
      ]
    },
    {
      "cell_type": "code",
      "source": [
        "all_data = all_data.dropna()\n",
        "all_data.shape"
      ],
      "metadata": {
        "colab": {
          "base_uri": "https://localhost:8080/"
        },
        "id": "ttj4obOhGzCP",
        "outputId": "20390942-18d3-4a00-fbc6-6a2406bb9a71"
      },
      "execution_count": null,
      "outputs": [
        {
          "output_type": "execute_result",
          "data": {
            "text/plain": [
              "(2188, 2)"
            ]
          },
          "metadata": {},
          "execution_count": 9
        }
      ]
    },
    {
      "cell_type": "code",
      "source": [
        "import nltk\n",
        "nltk.download(\"stopwords\") \n",
        "stopwords_list = stopwords.words('english')\n",
        "\n",
        "lemmatizer = WordNetLemmatizer()\n",
        "\n",
        "def my_tokenizer(doc):\n",
        "    words = word_tokenize(doc)\n",
        "    \n",
        "    pos_tags = pos_tag(words)\n",
        "    \n",
        "    non_stopwords = [w for w in pos_tags if not w[0].lower() in stopwords_list]\n",
        "    \n",
        "    non_punctuation = [w for w in non_stopwords if not w[0] in string.punctuation]\n",
        "    \n",
        "    lemmas = []\n",
        "    for w in non_punctuation:\n",
        "        if w[1].startswith('J'):\n",
        "            pos = wordnet.ADJ\n",
        "        elif w[1].startswith('V'):\n",
        "            pos = wordnet.VERB\n",
        "        elif w[1].startswith('N'):\n",
        "            pos = wordnet.NOUN\n",
        "        elif w[1].startswith('R'):\n",
        "            pos = wordnet.ADV\n",
        "        else:\n",
        "            pos = wordnet.NOUN\n",
        "        \n",
        "        lemmas.append(lemmatizer.lemmatize(w[0], pos))\n",
        "\n",
        "    return lemmas"
      ],
      "metadata": {
        "colab": {
          "base_uri": "https://localhost:8080/"
        },
        "id": "hvoRpyJaG2rD",
        "outputId": "ee7339dd-a61e-44d9-d8eb-348f76295c4b"
      },
      "execution_count": null,
      "outputs": [
        {
          "output_type": "stream",
          "name": "stdout",
          "text": [
            "[nltk_data] Downloading package stopwords to /root/nltk_data...\n",
            "[nltk_data]   Unzipping corpora/stopwords.zip.\n"
          ]
        }
      ]
    },
    {
      "cell_type": "code",
      "source": [
        "from sklearn.feature_extraction.text import TfidfVectorizer\n",
        "\n",
        "\n",
        "tfidf_vectorizer = TfidfVectorizer(max_df=0.8, max_features=20000,\n",
        "                                   min_df=1, use_idf=True, ngram_range=(1,1))\n",
        "# note: minimum of 2 occurrences, rather than 0.2 (20% of all documents)\n",
        "\n",
        "tfidf_matrix = tfidf_vectorizer.fit_transform(tuple(all_data['Question']))\n",
        "\n",
        "print(tfidf_matrix.shape)"
      ],
      "metadata": {
        "colab": {
          "base_uri": "https://localhost:8080/"
        },
        "id": "5oMoOyDrHDWt",
        "outputId": "c5c7ea75-4ffa-4094-baa9-15405b07882a"
      },
      "execution_count": null,
      "outputs": [
        {
          "output_type": "stream",
          "name": "stdout",
          "text": [
            "(2188, 4081)\n"
          ]
        }
      ]
    },
    {
      "cell_type": "code",
      "source": [
        "def ask_question(question):\n",
        "    query_vect = tfidf_vectorizer.transform([question])\n",
        "    similarity = cosine_similarity(query_vect, tfidf_matrix)\n",
        "    max_similarity = np.argmax(similarity, axis=None)\n",
        "    \n",
        "    print('Your question:', question)\n",
        "    print('Closest question found:', all_data.iloc[max_similarity]['Question'])\n",
        "    print('Similarity: {:.2%}'.format(similarity[0, max_similarity]))\n",
        "    print('Answer:', all_data.iloc[max_similarity]['Answer'])"
      ],
      "metadata": {
        "id": "kXvxlGRkHNTr"
      },
      "execution_count": null,
      "outputs": []
    },
    {
      "cell_type": "markdown",
      "source": [
        "After running the code,we need to ask question if we get  very similar to closest question found then the result will be **YES**. Or else result show **NO**"
      ],
      "metadata": {
        "id": "cnPL-Q-zJria"
      }
    },
    {
      "cell_type": "code",
      "source": [
        "ask_question('When Abraham Lincoln started his political career')"
      ],
      "metadata": {
        "colab": {
          "base_uri": "https://localhost:8080/"
        },
        "id": "T-c6DpMIHS_s",
        "outputId": "de1c7e69-226d-4b17-b73f-5652384200ac"
      },
      "execution_count": null,
      "outputs": [
        {
          "output_type": "stream",
          "name": "stdout",
          "text": [
            "Your question: When Abraham Lincoln started his political career\n",
            "Closest question found: Abraham Lincoln When did Lincoln begin his political career?\n",
            "Similarity: 87.84%\n",
            "Answer: 1832\n"
          ]
        }
      ]
    },
    {
      "cell_type": "code",
      "source": [
        "ask_question(' Was Abraham Lincoln the sixteenth President of the United States?')"
      ],
      "metadata": {
        "colab": {
          "base_uri": "https://localhost:8080/"
        },
        "id": "jNNK0qHBHYzV",
        "outputId": "22505a98-1fd2-40e4-d7f1-e3160626c9f4"
      },
      "execution_count": null,
      "outputs": [
        {
          "output_type": "stream",
          "name": "stdout",
          "text": [
            "Your question:  Was Abraham Lincoln the sixteenth President of the United States?\n",
            "Closest question found: Abraham Lincoln Was Abraham Lincoln the sixteenth President of the United States?\n",
            "Similarity: 94.43%\n",
            "Answer: yes\n"
          ]
        }
      ]
    },
    {
      "cell_type": "code",
      "source": [
        "ask_question('Can whales fly')"
      ],
      "metadata": {
        "colab": {
          "base_uri": "https://localhost:8080/"
        },
        "id": "x3VWQmwsHgb-",
        "outputId": "e1e9508c-5ade-45d0-aedf-928dd4a7246f"
      },
      "execution_count": null,
      "outputs": [
        {
          "output_type": "stream",
          "name": "stdout",
          "text": [
            "Your question: Can whales fly\n",
            "Closest question found: Otter Do sea otters have a layer of fat like whales?\n",
            "Similarity: 29.17%\n",
            "Answer: No\n"
          ]
        }
      ]
    },
    {
      "cell_type": "code",
      "source": [
        "ask_question('Who was the third president of the United States')"
      ],
      "metadata": {
        "colab": {
          "base_uri": "https://localhost:8080/"
        },
        "id": "9i5AnrYbHiK5",
        "outputId": "62e4cf50-5a7a-47ad-e169-b39f643b5d33"
      },
      "execution_count": null,
      "outputs": [
        {
          "output_type": "stream",
          "name": "stdout",
          "text": [
            "Your question: Who was the third president of the United States\n",
            "Closest question found: Calvin Coolidge Was Coolidge the thirteenth President of the United States?\n",
            "Similarity: 49.61%\n",
            "Answer: No\n"
          ]
        }
      ]
    },
    {
      "cell_type": "markdown",
      "source": [
        "# **Scope of project**"
      ],
      "metadata": {
        "id": "uCSIUD4KM76O"
      }
    },
    {
      "cell_type": "markdown",
      "source": [
        "A. The topic model should be able to identify/extract important topics.\n",
        "\n",
        "B. The topic model would be built on the corpus of Data Science documents.\n",
        "\n",
        "C. The topic model should yield the most relevant and stable topics measured through the\n",
        "perplexity score.\n",
        "\n",
        "D. Once the relevant documents have been retrieved, the extractive question answering\n",
        "model would generate the answer for the question.\n",
        "\n",
        "E. The entire dual-model pipeline would be deployed in AWS/GCP/Azure\n",
        "\n",
        "F. The dual-model pipeline must be accessible via a web application(Streamlit) for demo\n",
        "purpose."
      ],
      "metadata": {
        "id": "QX8pSIvPM_RC"
      }
    },
    {
      "cell_type": "markdown",
      "source": [
        "## **CONCLUSION**"
      ],
      "metadata": {
        "id": "qCkLf5KCQmBb"
      }
    },
    {
      "cell_type": "markdown",
      "source": [
        "In this project I concluded that Automated Question Answering aims at delivering concise information that contains answers to user questions. We will solve the challenge by applying deeplearning algorithms to textual data. This approach can be applied for real business cases as a part of Question answering/user support system. If you are building a question-answering system and use\n",
        "NLP engine, like Rasa NLU, Dialog flow, Luis, this NLP engine can answer predefined questions.However, if there is no predefined intent, you can call this automatic Q&A system to search in documents and return the answer. Continuous learning can be organized by getting feedback from users. For now, the quality of this model can’t outperform people, but it is really close to it (70–80%) depending on a dataset. Every month the quality of such models increases. It means that in the very near future such models may answer questions with the same accuracy as humans, but much faster."
      ],
      "metadata": {
        "id": "vNsvI6_PQsC1"
      }
    }
  ]
}